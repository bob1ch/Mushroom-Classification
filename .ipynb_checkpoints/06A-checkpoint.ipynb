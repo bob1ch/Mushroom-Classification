{
 "cells": [
  {
   "cell_type": "code",
   "execution_count": 1,
   "id": "4e5b04c9-4a19-497a-9408-6f2a7df3c5f6",
   "metadata": {},
   "outputs": [],
   "source": [
    "import pandas as pd\n",
    "import numpy as np\n",
    "import matplotlib.pyplot as plt\n",
    "\n",
    "from sklearn.model_selection import train_test_split\n",
    "from sklearn.preprocessing import LabelEncoder, OneHotEncoder\n",
    "\n",
    "from sklearn.metrics import roc_auc_score, f1_score, confusion_matrix, ConfusionMatrixDisplay, roc_curve, auc, RocCurveDisplay"
   ]
  },
  {
   "cell_type": "markdown",
   "id": "06fc2196-236e-4f31-b046-a70ddcd80310",
   "metadata": {},
   "source": [
    "## 1. Reading data"
   ]
  },
  {
   "cell_type": "code",
   "execution_count": 2,
   "id": "11daffad-aa9b-4e3f-9057-e0160141591c",
   "metadata": {},
   "outputs": [
    {
     "data": {
      "text/html": [
       "<div>\n",
       "<style scoped>\n",
       "    .dataframe tbody tr th:only-of-type {\n",
       "        vertical-align: middle;\n",
       "    }\n",
       "\n",
       "    .dataframe tbody tr th {\n",
       "        vertical-align: top;\n",
       "    }\n",
       "\n",
       "    .dataframe thead th {\n",
       "        text-align: right;\n",
       "    }\n",
       "</style>\n",
       "<table border=\"1\" class=\"dataframe\">\n",
       "  <thead>\n",
       "    <tr style=\"text-align: right;\">\n",
       "      <th></th>\n",
       "      <th>class</th>\n",
       "      <th>cap-diameter</th>\n",
       "      <th>cap-shape</th>\n",
       "      <th>cap-surface</th>\n",
       "      <th>cap-color</th>\n",
       "      <th>does-bruise-or-bleed</th>\n",
       "      <th>gill-attachment</th>\n",
       "      <th>gill-spacing</th>\n",
       "      <th>gill-color</th>\n",
       "      <th>stem-height</th>\n",
       "      <th>...</th>\n",
       "      <th>stem-root</th>\n",
       "      <th>stem-surface</th>\n",
       "      <th>stem-color</th>\n",
       "      <th>veil-type</th>\n",
       "      <th>veil-color</th>\n",
       "      <th>has-ring</th>\n",
       "      <th>ring-type</th>\n",
       "      <th>spore-print-color</th>\n",
       "      <th>habitat</th>\n",
       "      <th>season</th>\n",
       "    </tr>\n",
       "  </thead>\n",
       "  <tbody>\n",
       "    <tr>\n",
       "      <th>0</th>\n",
       "      <td>p</td>\n",
       "      <td>15.26</td>\n",
       "      <td>x</td>\n",
       "      <td>g</td>\n",
       "      <td>o</td>\n",
       "      <td>f</td>\n",
       "      <td>e</td>\n",
       "      <td>NaN</td>\n",
       "      <td>w</td>\n",
       "      <td>16.95</td>\n",
       "      <td>...</td>\n",
       "      <td>s</td>\n",
       "      <td>y</td>\n",
       "      <td>w</td>\n",
       "      <td>u</td>\n",
       "      <td>w</td>\n",
       "      <td>t</td>\n",
       "      <td>g</td>\n",
       "      <td>NaN</td>\n",
       "      <td>d</td>\n",
       "      <td>w</td>\n",
       "    </tr>\n",
       "    <tr>\n",
       "      <th>1</th>\n",
       "      <td>p</td>\n",
       "      <td>16.60</td>\n",
       "      <td>x</td>\n",
       "      <td>g</td>\n",
       "      <td>o</td>\n",
       "      <td>f</td>\n",
       "      <td>e</td>\n",
       "      <td>NaN</td>\n",
       "      <td>w</td>\n",
       "      <td>17.99</td>\n",
       "      <td>...</td>\n",
       "      <td>s</td>\n",
       "      <td>y</td>\n",
       "      <td>w</td>\n",
       "      <td>u</td>\n",
       "      <td>w</td>\n",
       "      <td>t</td>\n",
       "      <td>g</td>\n",
       "      <td>NaN</td>\n",
       "      <td>d</td>\n",
       "      <td>u</td>\n",
       "    </tr>\n",
       "    <tr>\n",
       "      <th>2</th>\n",
       "      <td>p</td>\n",
       "      <td>14.07</td>\n",
       "      <td>x</td>\n",
       "      <td>g</td>\n",
       "      <td>o</td>\n",
       "      <td>f</td>\n",
       "      <td>e</td>\n",
       "      <td>NaN</td>\n",
       "      <td>w</td>\n",
       "      <td>17.80</td>\n",
       "      <td>...</td>\n",
       "      <td>s</td>\n",
       "      <td>y</td>\n",
       "      <td>w</td>\n",
       "      <td>u</td>\n",
       "      <td>w</td>\n",
       "      <td>t</td>\n",
       "      <td>g</td>\n",
       "      <td>NaN</td>\n",
       "      <td>d</td>\n",
       "      <td>w</td>\n",
       "    </tr>\n",
       "    <tr>\n",
       "      <th>3</th>\n",
       "      <td>p</td>\n",
       "      <td>14.17</td>\n",
       "      <td>f</td>\n",
       "      <td>h</td>\n",
       "      <td>e</td>\n",
       "      <td>f</td>\n",
       "      <td>e</td>\n",
       "      <td>NaN</td>\n",
       "      <td>w</td>\n",
       "      <td>15.77</td>\n",
       "      <td>...</td>\n",
       "      <td>s</td>\n",
       "      <td>y</td>\n",
       "      <td>w</td>\n",
       "      <td>u</td>\n",
       "      <td>w</td>\n",
       "      <td>t</td>\n",
       "      <td>p</td>\n",
       "      <td>NaN</td>\n",
       "      <td>d</td>\n",
       "      <td>w</td>\n",
       "    </tr>\n",
       "    <tr>\n",
       "      <th>4</th>\n",
       "      <td>p</td>\n",
       "      <td>14.64</td>\n",
       "      <td>x</td>\n",
       "      <td>h</td>\n",
       "      <td>o</td>\n",
       "      <td>f</td>\n",
       "      <td>e</td>\n",
       "      <td>NaN</td>\n",
       "      <td>w</td>\n",
       "      <td>16.53</td>\n",
       "      <td>...</td>\n",
       "      <td>s</td>\n",
       "      <td>y</td>\n",
       "      <td>w</td>\n",
       "      <td>u</td>\n",
       "      <td>w</td>\n",
       "      <td>t</td>\n",
       "      <td>p</td>\n",
       "      <td>NaN</td>\n",
       "      <td>d</td>\n",
       "      <td>w</td>\n",
       "    </tr>\n",
       "  </tbody>\n",
       "</table>\n",
       "<p>5 rows × 21 columns</p>\n",
       "</div>"
      ],
      "text/plain": [
       "  class  cap-diameter cap-shape cap-surface cap-color does-bruise-or-bleed  \\\n",
       "0     p         15.26         x           g         o                    f   \n",
       "1     p         16.60         x           g         o                    f   \n",
       "2     p         14.07         x           g         o                    f   \n",
       "3     p         14.17         f           h         e                    f   \n",
       "4     p         14.64         x           h         o                    f   \n",
       "\n",
       "  gill-attachment gill-spacing gill-color  stem-height  ...  stem-root  \\\n",
       "0               e          NaN          w        16.95  ...          s   \n",
       "1               e          NaN          w        17.99  ...          s   \n",
       "2               e          NaN          w        17.80  ...          s   \n",
       "3               e          NaN          w        15.77  ...          s   \n",
       "4               e          NaN          w        16.53  ...          s   \n",
       "\n",
       "  stem-surface stem-color veil-type veil-color has-ring ring-type  \\\n",
       "0            y          w         u          w        t         g   \n",
       "1            y          w         u          w        t         g   \n",
       "2            y          w         u          w        t         g   \n",
       "3            y          w         u          w        t         p   \n",
       "4            y          w         u          w        t         p   \n",
       "\n",
       "  spore-print-color habitat season  \n",
       "0               NaN       d      w  \n",
       "1               NaN       d      u  \n",
       "2               NaN       d      w  \n",
       "3               NaN       d      w  \n",
       "4               NaN       d      w  \n",
       "\n",
       "[5 rows x 21 columns]"
      ]
     },
     "execution_count": 2,
     "metadata": {},
     "output_type": "execute_result"
    }
   ],
   "source": [
    "data = pd.read_csv(\"mushroom.csv\")\n",
    "data.head()"
   ]
  },
  {
   "cell_type": "code",
   "execution_count": 3,
   "id": "7878cf1b-071a-4934-bf52-2e91b3c3cb94",
   "metadata": {},
   "outputs": [
    {
     "data": {
      "text/html": [
       "<div>\n",
       "<style scoped>\n",
       "    .dataframe tbody tr th:only-of-type {\n",
       "        vertical-align: middle;\n",
       "    }\n",
       "\n",
       "    .dataframe tbody tr th {\n",
       "        vertical-align: top;\n",
       "    }\n",
       "\n",
       "    .dataframe thead th {\n",
       "        text-align: right;\n",
       "    }\n",
       "</style>\n",
       "<table border=\"1\" class=\"dataframe\">\n",
       "  <thead>\n",
       "    <tr style=\"text-align: right;\">\n",
       "      <th></th>\n",
       "      <th>cap-diameter</th>\n",
       "      <th>stem-height</th>\n",
       "      <th>stem-width</th>\n",
       "    </tr>\n",
       "  </thead>\n",
       "  <tbody>\n",
       "    <tr>\n",
       "      <th>count</th>\n",
       "      <td>61069.000000</td>\n",
       "      <td>61069.000000</td>\n",
       "      <td>61069.000000</td>\n",
       "    </tr>\n",
       "    <tr>\n",
       "      <th>mean</th>\n",
       "      <td>6.733854</td>\n",
       "      <td>6.581538</td>\n",
       "      <td>12.149410</td>\n",
       "    </tr>\n",
       "    <tr>\n",
       "      <th>std</th>\n",
       "      <td>5.264845</td>\n",
       "      <td>3.370017</td>\n",
       "      <td>10.035955</td>\n",
       "    </tr>\n",
       "    <tr>\n",
       "      <th>min</th>\n",
       "      <td>0.380000</td>\n",
       "      <td>0.000000</td>\n",
       "      <td>0.000000</td>\n",
       "    </tr>\n",
       "    <tr>\n",
       "      <th>25%</th>\n",
       "      <td>3.480000</td>\n",
       "      <td>4.640000</td>\n",
       "      <td>5.210000</td>\n",
       "    </tr>\n",
       "    <tr>\n",
       "      <th>50%</th>\n",
       "      <td>5.860000</td>\n",
       "      <td>5.950000</td>\n",
       "      <td>10.190000</td>\n",
       "    </tr>\n",
       "    <tr>\n",
       "      <th>75%</th>\n",
       "      <td>8.540000</td>\n",
       "      <td>7.740000</td>\n",
       "      <td>16.570000</td>\n",
       "    </tr>\n",
       "    <tr>\n",
       "      <th>max</th>\n",
       "      <td>62.340000</td>\n",
       "      <td>33.920000</td>\n",
       "      <td>103.910000</td>\n",
       "    </tr>\n",
       "  </tbody>\n",
       "</table>\n",
       "</div>"
      ],
      "text/plain": [
       "       cap-diameter   stem-height    stem-width\n",
       "count  61069.000000  61069.000000  61069.000000\n",
       "mean       6.733854      6.581538     12.149410\n",
       "std        5.264845      3.370017     10.035955\n",
       "min        0.380000      0.000000      0.000000\n",
       "25%        3.480000      4.640000      5.210000\n",
       "50%        5.860000      5.950000     10.190000\n",
       "75%        8.540000      7.740000     16.570000\n",
       "max       62.340000     33.920000    103.910000"
      ]
     },
     "execution_count": 3,
     "metadata": {},
     "output_type": "execute_result"
    }
   ],
   "source": [
    "#по умолчанию describe делается по числовым колонкам\n",
    "data.describe()"
   ]
  },
  {
   "cell_type": "code",
   "execution_count": 4,
   "id": "14061772-2799-48e3-92e0-dc0c1e17b4b9",
   "metadata": {},
   "outputs": [
    {
     "data": {
      "text/html": [
       "<div>\n",
       "<style scoped>\n",
       "    .dataframe tbody tr th:only-of-type {\n",
       "        vertical-align: middle;\n",
       "    }\n",
       "\n",
       "    .dataframe tbody tr th {\n",
       "        vertical-align: top;\n",
       "    }\n",
       "\n",
       "    .dataframe thead th {\n",
       "        text-align: right;\n",
       "    }\n",
       "</style>\n",
       "<table border=\"1\" class=\"dataframe\">\n",
       "  <thead>\n",
       "    <tr style=\"text-align: right;\">\n",
       "      <th></th>\n",
       "      <th>class</th>\n",
       "      <th>cap-shape</th>\n",
       "      <th>cap-surface</th>\n",
       "      <th>cap-color</th>\n",
       "      <th>does-bruise-or-bleed</th>\n",
       "      <th>gill-attachment</th>\n",
       "      <th>gill-spacing</th>\n",
       "      <th>gill-color</th>\n",
       "      <th>stem-root</th>\n",
       "      <th>stem-surface</th>\n",
       "      <th>stem-color</th>\n",
       "      <th>veil-type</th>\n",
       "      <th>veil-color</th>\n",
       "      <th>has-ring</th>\n",
       "      <th>ring-type</th>\n",
       "      <th>spore-print-color</th>\n",
       "      <th>habitat</th>\n",
       "      <th>season</th>\n",
       "    </tr>\n",
       "  </thead>\n",
       "  <tbody>\n",
       "    <tr>\n",
       "      <th>count</th>\n",
       "      <td>61069</td>\n",
       "      <td>61069</td>\n",
       "      <td>46949</td>\n",
       "      <td>61069</td>\n",
       "      <td>61069</td>\n",
       "      <td>51185</td>\n",
       "      <td>36006</td>\n",
       "      <td>61069</td>\n",
       "      <td>9531</td>\n",
       "      <td>22945</td>\n",
       "      <td>61069</td>\n",
       "      <td>3177</td>\n",
       "      <td>7413</td>\n",
       "      <td>61069</td>\n",
       "      <td>58598</td>\n",
       "      <td>6354</td>\n",
       "      <td>61069</td>\n",
       "      <td>61069</td>\n",
       "    </tr>\n",
       "    <tr>\n",
       "      <th>unique</th>\n",
       "      <td>2</td>\n",
       "      <td>7</td>\n",
       "      <td>11</td>\n",
       "      <td>12</td>\n",
       "      <td>2</td>\n",
       "      <td>7</td>\n",
       "      <td>3</td>\n",
       "      <td>12</td>\n",
       "      <td>5</td>\n",
       "      <td>8</td>\n",
       "      <td>13</td>\n",
       "      <td>1</td>\n",
       "      <td>6</td>\n",
       "      <td>2</td>\n",
       "      <td>8</td>\n",
       "      <td>7</td>\n",
       "      <td>8</td>\n",
       "      <td>4</td>\n",
       "    </tr>\n",
       "    <tr>\n",
       "      <th>top</th>\n",
       "      <td>p</td>\n",
       "      <td>x</td>\n",
       "      <td>t</td>\n",
       "      <td>n</td>\n",
       "      <td>f</td>\n",
       "      <td>a</td>\n",
       "      <td>c</td>\n",
       "      <td>w</td>\n",
       "      <td>s</td>\n",
       "      <td>s</td>\n",
       "      <td>w</td>\n",
       "      <td>u</td>\n",
       "      <td>w</td>\n",
       "      <td>f</td>\n",
       "      <td>f</td>\n",
       "      <td>k</td>\n",
       "      <td>d</td>\n",
       "      <td>a</td>\n",
       "    </tr>\n",
       "    <tr>\n",
       "      <th>freq</th>\n",
       "      <td>33888</td>\n",
       "      <td>26934</td>\n",
       "      <td>8196</td>\n",
       "      <td>24218</td>\n",
       "      <td>50479</td>\n",
       "      <td>12698</td>\n",
       "      <td>24710</td>\n",
       "      <td>18521</td>\n",
       "      <td>3177</td>\n",
       "      <td>6025</td>\n",
       "      <td>22926</td>\n",
       "      <td>3177</td>\n",
       "      <td>5474</td>\n",
       "      <td>45890</td>\n",
       "      <td>48361</td>\n",
       "      <td>2118</td>\n",
       "      <td>44209</td>\n",
       "      <td>30177</td>\n",
       "    </tr>\n",
       "  </tbody>\n",
       "</table>\n",
       "</div>"
      ],
      "text/plain": [
       "        class cap-shape cap-surface cap-color does-bruise-or-bleed  \\\n",
       "count   61069     61069       46949     61069                61069   \n",
       "unique      2         7          11        12                    2   \n",
       "top         p         x           t         n                    f   \n",
       "freq    33888     26934        8196     24218                50479   \n",
       "\n",
       "       gill-attachment gill-spacing gill-color stem-root stem-surface  \\\n",
       "count            51185        36006      61069      9531        22945   \n",
       "unique               7            3         12         5            8   \n",
       "top                  a            c          w         s            s   \n",
       "freq             12698        24710      18521      3177         6025   \n",
       "\n",
       "       stem-color veil-type veil-color has-ring ring-type spore-print-color  \\\n",
       "count       61069      3177       7413    61069     58598              6354   \n",
       "unique         13         1          6        2         8                 7   \n",
       "top             w         u          w        f         f                 k   \n",
       "freq        22926      3177       5474    45890     48361              2118   \n",
       "\n",
       "       habitat season  \n",
       "count    61069  61069  \n",
       "unique       8      4  \n",
       "top          d      a  \n",
       "freq     44209  30177  "
      ]
     },
     "execution_count": 4,
     "metadata": {},
     "output_type": "execute_result"
    }
   ],
   "source": [
    "#describe по не числовым колонкам\n",
    "data.describe(exclude=[np.number])"
   ]
  },
  {
   "cell_type": "code",
   "execution_count": 5,
   "id": "5850715a-c8f2-495d-8ce3-d72bc0d0374f",
   "metadata": {},
   "outputs": [
    {
     "name": "stdout",
     "output_type": "stream",
     "text": [
      "class                    0.000000\n",
      "cap-diameter             0.000000\n",
      "cap-shape                0.000000\n",
      "cap-surface             23.121387\n",
      "cap-color                0.000000\n",
      "does-bruise-or-bleed     0.000000\n",
      "gill-attachment         16.184971\n",
      "gill-spacing            41.040462\n",
      "gill-color               0.000000\n",
      "stem-height              0.000000\n",
      "stem-width               0.000000\n",
      "stem-root               84.393064\n",
      "stem-surface            62.427746\n",
      "stem-color               0.000000\n",
      "veil-type               94.797688\n",
      "veil-color              87.861272\n",
      "has-ring                 0.000000\n",
      "ring-type                4.046243\n",
      "spore-print-color       89.595376\n",
      "habitat                  0.000000\n",
      "season                   0.000000\n",
      "dtype: float64\n"
     ]
    }
   ],
   "source": [
    "NaN_percent = data.isnull().sum(axis=0) / len(data) * 100 # % NaN\n",
    "print(NaN_percent)"
   ]
  },
  {
   "cell_type": "markdown",
   "id": "40614316-be4b-4b12-8dfb-9e70a3abeb83",
   "metadata": {},
   "source": [
    "* Существует проблема, что есть признаки, у которых  большое количество пропусков, поэтому для некоторых моделей это может стать проблемой\n",
    "\n",
    "  Так как я не разбираюсь в грибах принимаю решение избавиться от тех признаков, что содержат много пропусков, а там где пропусков мало заполним модой\n",
    "\n",
    "* Классы выглядят сбалансированными"
   ]
  },
  {
   "cell_type": "code",
   "execution_count": 6,
   "id": "675de09d-de2c-43aa-bb73-674498f62ddd",
   "metadata": {},
   "outputs": [],
   "source": [
    "data = data.drop(columns=NaN_percent[NaN_percent > 20].index) #удалим столбцы, в которых >20% значений пропущено"
   ]
  },
  {
   "cell_type": "code",
   "execution_count": 7,
   "id": "6283fa94-393c-4067-b679-bb66299fadcc",
   "metadata": {},
   "outputs": [],
   "source": [
    "data.fillna(data.mode().to_numpy, inplace=True)"
   ]
  },
  {
   "cell_type": "code",
   "execution_count": 8,
   "id": "a0a4c01e-ea83-4757-8f0f-6b4de42d5f24",
   "metadata": {},
   "outputs": [
    {
     "name": "stdout",
     "output_type": "stream",
     "text": [
      "count     61069\n",
      "unique        2\n",
      "top           p\n",
      "freq      33888\n",
      "Name: class, dtype: object\n",
      "{'p': 0.5549132947976878, 'e': 0.44508670520231214}\n"
     ]
    }
   ],
   "source": [
    "X, y = data.drop('class', axis=1).copy(), data['class'].copy()\n",
    "print(y.describe())\n",
    "print({k:(y == k).mean() for k in y.unique()})"
   ]
  },
  {
   "cell_type": "code",
   "execution_count": 9,
   "id": "5d03795f-50a7-455b-a122-8d5641fd3f0a",
   "metadata": {},
   "outputs": [],
   "source": [
    "#y transformation\n",
    "LE = LabelEncoder().fit(y)\n",
    "y = LE.transform(y)"
   ]
  },
  {
   "cell_type": "code",
   "execution_count": 10,
   "id": "b3f97de4-009a-4bbd-be0a-4bba4cabc126",
   "metadata": {},
   "outputs": [],
   "source": [
    "#x transformation\n",
    "categorical_columns = X.select_dtypes(exclude = [np.number]).columns.to_list()\n",
    "\n",
    "for col in categorical_columns:\n",
    "    oh = OneHotEncoder(sparse_output=False).set_output(transform=\"pandas\")\n",
    "    one_hot_encoded = oh.fit_transform(X[[col]].astype(str))\n",
    "    X = pd.concat([X,one_hot_encoded],axis=1).drop(columns=[col])"
   ]
  },
  {
   "cell_type": "code",
   "execution_count": 11,
   "id": "c0dff57b-874b-473b-ba0a-06c481f90363",
   "metadata": {},
   "outputs": [],
   "source": [
    "X_train, X_test, y_train, y_test = train_test_split(X, y, test_size=0.3)"
   ]
  },
  {
   "cell_type": "markdown",
   "id": "5fc85427-4a91-4832-8dfd-fcfe112df895",
   "metadata": {},
   "source": [
    "## 2. Training models"
   ]
  },
  {
   "cell_type": "code",
   "execution_count": 12,
   "id": "26896cd7-4206-48ec-8b70-ec919018babc",
   "metadata": {},
   "outputs": [],
   "source": [
    "models_dict = {}"
   ]
  },
  {
   "cell_type": "markdown",
   "id": "ddc90df6-bd2f-4abb-9184-de77ed5eb730",
   "metadata": {},
   "source": [
    "#### 2.1 OneRule"
   ]
  },
  {
   "cell_type": "code",
   "execution_count": 13,
   "id": "ad04f825-4c75-42b1-8aeb-57d030ed410b",
   "metadata": {},
   "outputs": [],
   "source": [
    "from mlxtend.classifier import OneRClassifier"
   ]
  },
  {
   "cell_type": "code",
   "execution_count": 14,
   "id": "a5bbcc4d-e0ab-4de1-a632-a802f4fd902e",
   "metadata": {},
   "outputs": [
    {
     "name": "stdout",
     "output_type": "stream",
     "text": [
      "Accuracy: 0.6084274875825555\n"
     ]
    }
   ],
   "source": [
    "OneR = OneRClassifier().fit(X_train.to_numpy(), y_train)\n",
    "y_pred = OneR.predict(X_test.to_numpy())\n",
    "print(f'Accuracy: {(y_pred == y_test).mean()}')"
   ]
  },
  {
   "cell_type": "code",
   "execution_count": 15,
   "id": "3aa4bf1c-d38a-4ab0-b738-3ada7b80eb6a",
   "metadata": {},
   "outputs": [],
   "source": [
    "models_dict['OneR'] = OneR"
   ]
  },
  {
   "cell_type": "markdown",
   "id": "45984972-715f-4037-84fa-c9cd91ed8992",
   "metadata": {},
   "source": [
    "#### 2.2 LogisticRegression"
   ]
  },
  {
   "cell_type": "code",
   "execution_count": 16,
   "id": "c34698c5-1792-45b4-885a-8ec8c7b0dff5",
   "metadata": {},
   "outputs": [],
   "source": [
    "from sklearn.linear_model import LogisticRegression"
   ]
  },
  {
   "cell_type": "code",
   "execution_count": 17,
   "id": "a514ba43-b08c-48cc-a765-7c155d4437f5",
   "metadata": {},
   "outputs": [
    {
     "name": "stdout",
     "output_type": "stream",
     "text": [
      "Accuracy: 0.7747393701217182\n",
      "roc_auc score 0.8382643115531043\n"
     ]
    }
   ],
   "source": [
    "LogReg = LogisticRegression(max_iter=2000).fit(X_train, y_train)\n",
    "print(\n",
    "f'''Accuracy: {LogReg.score(X_test, y_test)}\n",
    "roc_auc score {roc_auc_score(y_test, LogReg.predict_proba(X_test)[:, 1])}'''\n",
    ")"
   ]
  },
  {
   "cell_type": "code",
   "execution_count": 18,
   "id": "798e6c6c-58d8-4fba-b957-f2d0c141e2c7",
   "metadata": {},
   "outputs": [],
   "source": [
    "models_dict['LogReg'] = LogReg"
   ]
  },
  {
   "cell_type": "markdown",
   "id": "b9c7c783-eb34-4bee-a3e2-c24b73f25a5f",
   "metadata": {},
   "source": [
    "#### 2.3 KNN"
   ]
  },
  {
   "cell_type": "code",
   "execution_count": 19,
   "id": "7bd5979b-7995-4614-b099-c40cefcb6a03",
   "metadata": {},
   "outputs": [],
   "source": [
    "from sklearn.neighbors import KNeighborsClassifier"
   ]
  },
  {
   "cell_type": "code",
   "execution_count": 20,
   "id": "832e0d6f-7df5-4750-b303-64b490f0a415",
   "metadata": {},
   "outputs": [
    {
     "name": "stdout",
     "output_type": "stream",
     "text": [
      "Accuracy: 0.996670487418809\n",
      "roc_auc score 0.9989999607823028\n"
     ]
    }
   ],
   "source": [
    "KNN = KNeighborsClassifier().fit(X_train, y_train)\n",
    "print(\n",
    "f'''Accuracy: {KNN.score(X_test, y_test)}\n",
    "roc_auc score {roc_auc_score(y_test, KNN.predict_proba(X_test)[:, 1])}'''\n",
    ")"
   ]
  },
  {
   "cell_type": "code",
   "execution_count": 21,
   "id": "57186ec1-cdd4-4ef1-b30d-0e959291be57",
   "metadata": {},
   "outputs": [],
   "source": [
    "models_dict['KNN'] = KNN"
   ]
  },
  {
   "cell_type": "markdown",
   "id": "0ad8648f-7b57-417d-a18d-ed7595dff00e",
   "metadata": {},
   "source": [
    "#### 2.4 Bayes Classifier"
   ]
  },
  {
   "cell_type": "code",
   "execution_count": 22,
   "id": "4a0fd941-3c96-43d2-a465-6b2abea9b00c",
   "metadata": {},
   "outputs": [],
   "source": [
    "from sklearn.naive_bayes import CategoricalNB"
   ]
  },
  {
   "cell_type": "code",
   "execution_count": 23,
   "id": "fe35110c-3a34-49b4-8427-f54dcc50804a",
   "metadata": {},
   "outputs": [
    {
     "name": "stdout",
     "output_type": "stream",
     "text": [
      "Accuracy: 0.7410075869221112\n",
      "roc_auc score 0.8166928777237064\n"
     ]
    }
   ],
   "source": [
    "MrBayes = CategoricalNB(min_categories=X.nunique()).fit(X_train, y_train)\n",
    "print(\n",
    "f'''Accuracy: {MrBayes.score(X_test, y_test)}\n",
    "roc_auc score {roc_auc_score(y_test, MrBayes.predict_proba(X_test)[:, 1])}'''\n",
    ")"
   ]
  },
  {
   "cell_type": "code",
   "execution_count": 24,
   "id": "4fff377b-0433-4c2b-970a-33806b86befe",
   "metadata": {},
   "outputs": [],
   "source": [
    "models_dict['Bayes'] = MrBayes"
   ]
  },
  {
   "cell_type": "markdown",
   "id": "2bf1cb2a-09e1-4689-bd0b-8a664ae03c06",
   "metadata": {},
   "source": [
    "#### 2.5 DescisionTree"
   ]
  },
  {
   "cell_type": "code",
   "execution_count": 25,
   "id": "6c4bd296-2127-43cb-93ed-cd1b7ae29274",
   "metadata": {},
   "outputs": [],
   "source": [
    "from sklearn.tree import DecisionTreeClassifier"
   ]
  },
  {
   "cell_type": "code",
   "execution_count": 26,
   "id": "1bfda01b-a3b1-4a9f-ab23-57706403a7f0",
   "metadata": {},
   "outputs": [
    {
     "name": "stdout",
     "output_type": "stream",
     "text": [
      "train acc 1.0\n",
      "test acc 0.9930680639703073\n",
      "\n"
     ]
    }
   ],
   "source": [
    "tree = DecisionTreeClassifier().fit(X_train, y_train)\n",
    "print(\n",
    "f'''train acc {(tree.predict(X_train) == y_train).mean()}\n",
    "test acc {(tree.predict(X_test) == y_test).mean()}\n",
    "'''\n",
    ")"
   ]
  },
  {
   "cell_type": "code",
   "execution_count": 27,
   "id": "73f62ae8-fb7b-4448-bcd6-81c9a12dc6ef",
   "metadata": {},
   "outputs": [],
   "source": [
    "models_dict['tree'] = tree"
   ]
  },
  {
   "cell_type": "markdown",
   "id": "33a65e47-bc95-4c79-8cac-b5dcba317e68",
   "metadata": {},
   "source": [
    "#### 2.6 Boosting"
   ]
  },
  {
   "cell_type": "code",
   "execution_count": 28,
   "id": "3a9cce85-f6d6-417b-ba35-073dc70ea233",
   "metadata": {},
   "outputs": [],
   "source": [
    "from catboost import CatBoostClassifier, Pool"
   ]
  },
  {
   "cell_type": "code",
   "execution_count": 29,
   "id": "f9ee3466-173f-4133-a733-308ff689c0d2",
   "metadata": {},
   "outputs": [
    {
     "name": "stdout",
     "output_type": "stream",
     "text": [
      "class =  [0 0 1 ... 1 1 1]\n",
      "proba =  [[0.62017398 0.37982602]\n",
      " [0.50682038 0.49317962]\n",
      " [0.29371705 0.70628295]\n",
      " ...\n",
      " [0.35620715 0.64379285]\n",
      " [0.46759674 0.53240326]\n",
      " [0.29315097 0.70684903]]\n",
      "score =  0.8717864745374161\n"
     ]
    }
   ],
   "source": [
    "test_pool = Pool(X_test, y_test)\n",
    "\n",
    "boosting = CatBoostClassifier(iterations=200,\n",
    "                           depth=8,\n",
    "                           learning_rate=0.001,\n",
    "                           loss_function='Logloss',\n",
    "                           task_type='GPU',\n",
    "                           verbose=False)\n",
    "# train the model\n",
    "boosting.fit(X_train, y_train)\n",
    "# make the prediction using the resulting model\n",
    "preds_class = boosting.predict(test_pool)\n",
    "preds_proba = boosting.predict_proba(test_pool)\n",
    "score = boosting.score(test_pool)\n",
    "print(\"class = \", preds_class)\n",
    "print(\"proba = \", preds_proba)\n",
    "print(\"score = \", score)"
   ]
  },
  {
   "cell_type": "code",
   "execution_count": 30,
   "id": "fa5a03ed-8285-47c9-ac2d-fba459a4bb4a",
   "metadata": {},
   "outputs": [],
   "source": [
    "models_dict['CatBoost'] = boosting"
   ]
  },
  {
   "cell_type": "markdown",
   "id": "3c3170d0-358d-4ddc-9111-bb916ba377f3",
   "metadata": {},
   "source": [
    "#### 2.7 SVC"
   ]
  },
  {
   "cell_type": "code",
   "execution_count": 31,
   "id": "75930426-487d-4618-b91b-5ee68f2f18d4",
   "metadata": {},
   "outputs": [],
   "source": [
    "from sklearn.svm import SVC"
   ]
  },
  {
   "cell_type": "code",
   "execution_count": 32,
   "id": "7de59b1a-578c-4413-baed-1100dac87715",
   "metadata": {},
   "outputs": [
    {
     "name": "stdout",
     "output_type": "stream",
     "text": [
      "Accuracy: 0.8819933409748376\n"
     ]
    }
   ],
   "source": [
    "vector_classif = SVC().fit(X_train, y_train)\n",
    "print(\n",
    "f'''Accuracy: {vector_classif.score(X_test, y_test)}'''\n",
    ")"
   ]
  },
  {
   "cell_type": "code",
   "execution_count": 33,
   "id": "666a8e58-7311-45e7-928a-d31bd2376555",
   "metadata": {},
   "outputs": [],
   "source": [
    "models_dict['SVM'] = vector_classif"
   ]
  },
  {
   "cell_type": "markdown",
   "id": "41c69fe0-1fb9-433e-85f5-ee4b482f691b",
   "metadata": {},
   "source": [
    "#### 2.8 MLP"
   ]
  },
  {
   "cell_type": "code",
   "execution_count": 34,
   "id": "49d6ce76-f046-45b6-ab14-66215326d118",
   "metadata": {},
   "outputs": [],
   "source": [
    "from sklearn.neural_network import MLPClassifier"
   ]
  },
  {
   "cell_type": "code",
   "execution_count": 35,
   "id": "150b9101-e669-4c7d-88c8-44c531a55600",
   "metadata": {},
   "outputs": [
    {
     "name": "stdout",
     "output_type": "stream",
     "text": [
      "Accuracy: 0.9982533704492113\n",
      "roc_auc score 0.9999946334947015\n"
     ]
    }
   ],
   "source": [
    "MLP = MLPClassifier().fit(X_train, y_train)\n",
    "print(\n",
    "f'''Accuracy: {MLP.score(X_test, y_test)}\n",
    "roc_auc score {roc_auc_score(y_test, MLP.predict_proba(X_test)[:, 1])}'''\n",
    ")"
   ]
  },
  {
   "cell_type": "code",
   "execution_count": 36,
   "id": "85174980-d45f-4775-b54d-7cc56445f8af",
   "metadata": {},
   "outputs": [],
   "source": [
    "models_dict['MLP'] = MLP"
   ]
  },
  {
   "cell_type": "markdown",
   "id": "274fef81-c700-4a9f-8efa-c5cb39dd4ddf",
   "metadata": {},
   "source": [
    "#### 2.9 Ensemble"
   ]
  },
  {
   "cell_type": "code",
   "execution_count": 37,
   "id": "c40fe19f-6798-4735-a768-ea4ec2f5c8f5",
   "metadata": {},
   "outputs": [],
   "source": [
    "from sklearn.ensemble import RandomForestClassifier"
   ]
  },
  {
   "cell_type": "code",
   "execution_count": 38,
   "id": "7de75ed9-466a-44c1-8bae-1441a8621728",
   "metadata": {},
   "outputs": [
    {
     "name": "stdout",
     "output_type": "stream",
     "text": [
      "train acc 0.9999766070927295\n",
      "test acc 0.9987446100103706\n"
     ]
    }
   ],
   "source": [
    "forest = RandomForestClassifier(n_estimators=50, \n",
    "                                criterion='entropy', \n",
    "                                max_depth=30)\n",
    "forest.fit(X_train, y_train)\n",
    "print(\n",
    "f'''train acc {(forest.predict(X_train) == y_train).mean()}\n",
    "test acc {(forest.predict(X_test) == y_test).mean()}'''\n",
    ")"
   ]
  },
  {
   "cell_type": "code",
   "execution_count": 39,
   "id": "b44c98c1-90e2-4436-8280-b64fae496af5",
   "metadata": {},
   "outputs": [],
   "source": [
    "models_dict['RandomForest'] = forest "
   ]
  },
  {
   "cell_type": "code",
   "execution_count": 40,
   "id": "ef9c12c5-b1a7-4cc4-8c96-a7a796a2435f",
   "metadata": {},
   "outputs": [
    {
     "name": "stdout",
     "output_type": "stream",
     "text": [
      "Accuracy нашего собрания греков:  0.9810054036351727\n"
     ]
    }
   ],
   "source": [
    "#а давайте сделаем ансамбль из всех моделей и попросим их проголосовать\n",
    "#кроме OneR, он приемный\n",
    "\n",
    "answers = np.zeros(shape=(len(models_dict)-1, y_test.shape[0]))\n",
    "c = 0\n",
    "for name, model in models_dict.items():\n",
    "    if name == 'OneR':\n",
    "        continue\n",
    "    answers[c] = model.predict(X_test)\n",
    "    c+=1\n",
    "#так как моделей 8, то можно проголсовать достаточно смешной и простой формулой, при равенстве голосов побеждает 1(ядовитый), так как лучше классифицировать грибы как ядовитые\n",
    "print('Accuracy нашего собрания греков: ', ((answers.sum(axis=0) >= 4).astype(int) == y_test).mean())"
   ]
  },
  {
   "cell_type": "markdown",
   "id": "a1644e28-65bd-4ec7-9f5c-8a1902fa1039",
   "metadata": {},
   "source": [
    "## 3. Testing models"
   ]
  },
  {
   "cell_type": "markdown",
   "id": "28383944-7ec6-45ae-991e-4c1d40d946f0",
   "metadata": {},
   "source": [
    "#### 3.1 Metrics"
   ]
  },
  {
   "cell_type": "code",
   "execution_count": 44,
   "id": "92a345ce-c76d-407e-ab32-889788016cc2",
   "metadata": {},
   "outputs": [
    {
     "name": "stdout",
     "output_type": "stream",
     "text": [
      "Model name   |  accuracy\n",
      "-------------------------\n",
      "OneR         |      0.61\n",
      "LogReg       |      0.77\n",
      "KNN          |      1.00\n",
      "Bayes        |      0.74\n",
      "tree         |      0.99\n",
      "CatBoost     |      0.87\n",
      "SVM          |      0.88\n",
      "MLP          |      1.00\n",
      "RandomForest |      1.00\n"
     ]
    }
   ],
   "source": [
    "#accuracy\n",
    "accuracy_list = list() #для df\n",
    "print(f\"{'Model name':13}|{'accuracy':>10}\")\n",
    "print('-'*25)\n",
    "for name, model in models_dict.items():\n",
    "    score = (model.predict(X_test.to_numpy()) == y_test).mean() if name == 'OneR' else (model.predict(X_test) == y_test).mean()\n",
    "    accuracy_list.append(score)\n",
    "    print(f'{name:13}|{score:>10.2f}')"
   ]
  },
  {
   "cell_type": "code",
   "execution_count": null,
   "id": "4b156b47-07e4-451c-bdae-141c62f95498",
   "metadata": {},
   "outputs": [],
   "source": [
    "#f1-score\n",
    "f1_list = list() #для df\n",
    "print(f\"{'Model name':13}|{'f1-score':>10}\"s)\n",
    "print('-'*25)\n",
    "for name, model in models_dict.items():\n",
    "    y_pred = model.predict(X_test.to_numpy()) if name == 'OneR' else model.predict(X_test)\n",
    "    score = f1_score(y_test, y_pred)\n",
    "    f1_list.append(score)\n",
    "    print(f'{name:13}|{score:>10.2f}')"
   ]
  },
  {
   "cell_type": "code",
   "execution_count": null,
   "id": "d59308a5-d8b7-47c5-b083-eaf93cb2d96a",
   "metadata": {},
   "outputs": [],
   "source": [
    "#roc_auc_score\n",
    "#Compute Area Under the Receiver Operating Characteristic Curve (ROC AUC) from prediction scores\n",
    "roc_auc_list = list() # для df\n",
    "print(f'{'Model name':13}|{'f1-score':>10}')\n",
    "print('-'*25)\n",
    "for name, model in models_dict.items():\n",
    "    if name == 'OneR':\n",
    "        y_pred = model.predict(X_test.to_numpy())\n",
    "        fpr, tpr, thresholds = roc_curve(y_test, y_pred)\n",
    "        roc_auc = auc(fpr, tpr)\n",
    "        roc_auc_list.append(roc_auc)\n",
    "        print(f'{name:13}|{roc_auc:>10.2f}')\n",
    "        continue\n",
    "\n",
    "    y_score = model.decision_function(X_test) if name == 'SVM' else model.predict_proba(X_test)[:, 1]\n",
    "    score = roc_auc_score(y_test, y_score)\n",
    "    roc_auc_list.append(score)\n",
    "    print(f'{name:13}|{score:>10.2f}')"
   ]
  },
  {
   "cell_type": "code",
   "execution_count": null,
   "id": "989ded2d-8d5a-444d-a5a0-d01443469e6f",
   "metadata": {},
   "outputs": [],
   "source": [
    "#beautiful table\n",
    "score_table = pd.DataFrame(np.array([accuracy_list, f1_list, roc_auc_list]).T, index=models_dict.keys(), columns=['Accuracy', 'F1_Score', 'ROC AUC'])\n",
    "score_table"
   ]
  },
  {
   "cell_type": "markdown",
   "id": "c688e0c6-55df-45ab-aed9-88a11df27f78",
   "metadata": {},
   "source": [
    "#### 3.2 Plots"
   ]
  },
  {
   "cell_type": "code",
   "execution_count": null,
   "id": "243788ac-4455-4f8a-9c79-7edf315b8563",
   "metadata": {},
   "outputs": [],
   "source": [
    "#confusion matrix\n",
    "fig, ax = plt.subplots(3, 3, figsize=(20, 20))\n",
    "counter = 0\n",
    "for i in range(3):\n",
    "    for j in range(3):\n",
    "        name, model = list(models_dict.items())[counter]\n",
    "        y_pred = model.predict(X_test.to_numpy()) if name == 'OneR' else model.predict(X_test)\n",
    "        cm = confusion_matrix(y_test, y_pred, labels=[0, 1])\n",
    "        ax[i][j].set_title(name)\n",
    "        ConfusionMatrixDisplay(confusion_matrix=cm, display_labels=LE.classes_).plot(ax=ax[i][j])\n",
    "        counter+=1"
   ]
  },
  {
   "cell_type": "code",
   "execution_count": null,
   "id": "bcc62238-2583-4c7b-9942-47c7422ad1bb",
   "metadata": {},
   "outputs": [],
   "source": [
    "#roc auc curve\n",
    "fig, ax = plt.subplots(1, 1, figsize=(10, 10))\n",
    "\n",
    "for name, model in models_dict.items():\n",
    "    if name == 'OneR':\n",
    "        y_pred = model.predict(X_test.to_numpy())\n",
    "        fpr, tpr, thresholds = roc_curve(y_test, y_pred)\n",
    "        roc_auc = auc(fpr, tpr)\n",
    "    RocCurveDisplay(fpr=fpr, tpr=tpr, roc_auc=roc_auc, estimator_name=name).plot(ax=ax) if name == 'OneR' else RocCurveDisplay.from_estimator(model, X_test, y_test, ax=ax, name=name)\n",
    "ax.plot((0, 1), (0, 1), \n",
    "        label=\"Chance level (AUC = 0.5)\",\n",
    "        color=\"k\",\n",
    "        linestyle=\"--\",)\n",
    "ax.legend()\n",
    "ax.set_title(\"Receiver Operating Characteristic (ROC) curves\")\n",
    "ax.grid(linestyle=\"--\")"
   ]
  },
  {
   "cell_type": "markdown",
   "id": "dd5f3286-9995-497a-a103-0344f493fb85",
   "metadata": {},
   "source": [
    "## 4. Исследование важности признаков\n",
    "\n",
    "в этой части работы мне на голову упал кокос и мне захотелось исследовать признаки кетбуста, так как он кажется черным ящиком\n",
    "\n",
    "e - 0, p - 1"
   ]
  },
  {
   "cell_type": "code",
   "execution_count": null,
   "id": "002a7801-d7c1-43a7-9369-6c7ecc6072c6",
   "metadata": {},
   "outputs": [],
   "source": [
    "import catboost\n",
    "import shap\n",
    "from sklearn.feature_selection import RFE"
   ]
  },
  {
   "cell_type": "code",
   "execution_count": null,
   "id": "15b482fd-a365-47ec-9cc0-12e46ee34473",
   "metadata": {},
   "outputs": [],
   "source": [
    "cat = models_dict['CatBoost']"
   ]
  },
  {
   "cell_type": "code",
   "execution_count": null,
   "id": "bbf769c8-ede6-49ca-99ad-f206b56c66f6",
   "metadata": {},
   "outputs": [],
   "source": [
    "#признаки, которые являются значимыми (>5)\n",
    "feature_importances_value = cat.feature_importances_[cat.feature_importances_ > 5]\n",
    "feature_importances_name = np.array(cat.feature_names_)[cat.feature_importances_ > 5]\n",
    "(feature_importances_name, feature_importances_value)"
   ]
  },
  {
   "cell_type": "code",
   "execution_count": null,
   "id": "c41352cb-db30-4e12-8915-3d0095cab7fe",
   "metadata": {},
   "outputs": [],
   "source": [
    "#посмотрим на фичи через shap\n",
    "explainer = shap.Explainer(cat)\n",
    "shap_values = explainer(X)\n",
    "\n",
    "shap.plots.waterfall(shap_values[516])"
   ]
  },
  {
   "cell_type": "markdown",
   "id": "8a913aea-0ddb-4e23-b9ab-e41afccf3b7e",
   "metadata": {},
   "source": [
    "* Ожидаемое прогнозируемое значение = 0.098 (с некоторой точки зрения это очень хорошо, потому что лучше классифицировать случайный гриб как ядовитый)\n",
    "* Спрогнозированое значение = 0,069\n",
    "\n",
    "Для гриба 516 получается что:\n",
    "* при достаточно **широкой**(1.6 см) ножке\n",
    "* её **белым** цветом\n",
    "* **отсутствием** zone кольца\n",
    "* Шляпкой **не в форме купола (convex)**\n",
    "* **наличием** кольца в принципе (случайно получилось, что бинарный признак прогнал через OHE)\n",
    "* присоединением жабр **e** (free) P.S. что-то вроде крыла, но крепится сразу к основанию шляпки(имеется в виду без дистанции)\n",
    "* **белым** цветом жабр\n",
    "* и произрастанием гриба в d woods, по всей видимости в деревьях, как трутовик\n",
    "\n",
    "модель говорит, что гриб ядовитый\n",
    "\n",
    "ширина ножки, присоединение жабр и их цвет, вид кольца и ещё 71 признак толкают наш гриб к классу ядовитых"
   ]
  },
  {
   "cell_type": "code",
   "execution_count": null,
   "id": "7b3aa110-0a20-48df-a07d-44ca8e2e94b9",
   "metadata": {},
   "outputs": [],
   "source": [
    "LE.inverse_transform([y[516]])"
   ]
  },
  {
   "cell_type": "markdown",
   "id": "578d0464-4de0-4c89-b124-4ecc83d42582",
   "metadata": {},
   "source": [
    "![гугл запрос ядовитый гриб на дереве](https://img.7dach.ru/image/600/00/00/00/2021/09/24/c5974e.jpg)\n",
    "\n",
    "просто пример гриба, который немного похож по описанию"
   ]
  },
  {
   "cell_type": "code",
   "execution_count": null,
   "id": "24c4c9dd-06ce-4ee4-ac9c-392e6b705c2d",
   "metadata": {},
   "outputs": [],
   "source": [
    "shap.plots.beeswarm(shap_values)"
   ]
  },
  {
   "cell_type": "markdown",
   "id": "d60b74b4-272b-43c5-a71b-5f75465cdfa7",
   "metadata": {},
   "source": [
    "* слева - 0, справа 1, классы\n",
    "* толщина линии прямо пропорциональна количеству точек наблюдения\n",
    "* чем краснее точки, тем большее значение имеет признак в этой точке\n",
    "* Упорядочены по дисперсии\n",
    "\n",
    "\n",
    "Если у гриба белая ножка, тем он будет более **съедобныи**\n",
    "\n",
    "с ножкой не очень хорошее разделение, но если узкая, то может быть **ядовитым**\n",
    "\n",
    "Если ножка высокая, то может быть **съедобным**\n",
    "\n",
    "Если жабры белые, то скорее всего **съедобный**\n",
    "\n",
    "По креплению жабр d не очень понятно\n",
    "\n",
    "по креплению жабр a adnate(ровныеЮ крепятся точно к стволу), то скорее всего **ядовитый**\n",
    "\n",
    "Если кольцо есть на грибе, то тоже не очень понятно(скорее всего из-за того, что это зависит от типа кольца)\n",
    "\n",
    "Если на кольце нет юбочки, а есть zone, то **ядовитый**"
   ]
  },
  {
   "cell_type": "markdown",
   "id": "463545d3-61e9-476e-9dc8-25d70c02353a",
   "metadata": {},
   "source": [
    "Примерный съедобный гриб: Белая, высокая, толстая ножка, жабры также белые, кольцо не zone\n",
    "\n",
    "\n",
    "![боровик](https://fungiline.com/wp-content/uploads/2021/10/borovik_4-600x600.jpg)\n",
    "\n",
    "Примерный ядовитый гриб: не белая, низкая, тонкая ножка, жабры не белые, кольцо zone\n",
    "\n",
    "![гугл запрос самые ядовитые грибы](https://gribnik.info/wp-content/uploads/2022/07/blobid1657188933401.jpg)"
   ]
  },
  {
   "cell_type": "code",
   "execution_count": null,
   "id": "67af8bc1-3e24-496d-9d94-97516f8ffd72",
   "metadata": {},
   "outputs": [],
   "source": [
    "shap.plots.bar(shap_values)"
   ]
  },
  {
   "cell_type": "markdown",
   "id": "4a067eb8-ee48-4caa-9957-bd5cd85c9c2a",
   "metadata": {},
   "source": [
    "При помощи диаграммы выше можно определить какие признаки являются являются наиболее важными для прогноза модели"
   ]
  },
  {
   "cell_type": "markdown",
   "id": "73d60b11-784b-4a7b-9661-f323d6ef3399",
   "metadata": {},
   "source": [
    "## Приложение А"
   ]
  },
  {
   "cell_type": "markdown",
   "id": "6944d3d9-f0d4-4376-8f28-82b63e2c5e55",
   "metadata": {},
   "source": [
    "* stem-width - ширина ножки гриба\n",
    "* stem-color - цвет ножки гриба (w - white и т.д. f - none)\n",
    "* gill-spacing - расстояние между жабрами грибов в ламеле(то что под шляпкой) (close (c) distant (d) none (f))\n",
    "* stem-height - высота ножки\n",
    "* ring-type - вид кольца под шляпкой гриба (z - место где должно быть кольцо, там просто окрашенная зона) P.S. самый частый тип flaring - он похож на юбочку, но несмотря на то, что он самый частый, он не является значимым признаком\n",
    "* cap-shape - вид шляпки гриба (b - bell, похож на колокольчик)\n",
    "* stem-surface - текстура ножки (g - grooved(с бороздками), s - smooth(гладкая))\n",
    "* has-ring - наличие кольца (f - none, t -есть)\n",
    "* gill-attachment - то, как крепятся жабры, словами сложно это описать, но по картинке +- понятно\n",
    "* gill-color - цвет жабр\n",
    "* habitat - место где гриб вырос"
   ]
  },
  {
   "cell_type": "markdown",
   "id": "803e49de-3a7b-41e4-afd5-0eed6efe0eef",
   "metadata": {},
   "source": [
    "## Приложение B"
   ]
  },
  {
   "cell_type": "markdown",
   "id": "6d4aac51-42b1-4acc-bcdf-638993182a61",
   "metadata": {},
   "source": [
    "![Съедобные грибы](https://priazove.ru/wp-content/uploads/2023/10/09770ac62196e9702135d33b58e51cff.jpeg)"
   ]
  },
  {
   "cell_type": "markdown",
   "id": "8ea0244a-167d-4a1b-840d-5368f33e19e4",
   "metadata": {},
   "source": [
    "![Ядовитые грибы](https://wildwanderco.com/cdn/shop/products/poisonous-mushrooms-chart-28209221304418.jpg?v=1700142290)"
   ]
  },
  {
   "cell_type": "markdown",
   "id": "08e9d98c-d405-48e1-b672-0531c6a29bcb",
   "metadata": {},
   "source": [
    "## Заключение"
   ]
  },
  {
   "cell_type": "markdown",
   "id": "4b20c527-841f-4825-8e9d-c1d349a187b8",
   "metadata": {},
   "source": [
    "Датасет меня заинтересовал тем, что в детстве с бабушкой и дедушкой я ходил за грибами, поэтому с некоторыми яъедобными грибами и некоторыми аспектами съедобности грибов я знаком\n",
    "\n",
    "Интересно было посмотреть как математика может справиться с такой достаточно сложной задачей\n",
    "\n",
    "Сложность задачи заключается в большом многообразии грибов и даже достаточно опытный человек скорее всего не сможет классифицировать впервые увиденный гриб\n",
    "\n",
    "К моему счастью модели справились достаточно хорошо с этой задачей и что ещё лучше ожидаемое прогнозируемое значение - это то, что гриб ядовитый, так как лучше классифицировать съедобный гриб как ядовитый, чем ядовитый как съедобный"
   ]
  },
  {
   "cell_type": "code",
   "execution_count": null,
   "id": "505fcf20-62f6-4ca9-964b-08218e2a8b10",
   "metadata": {},
   "outputs": [],
   "source": []
  }
 ],
 "metadata": {
  "kernelspec": {
   "display_name": "Python 3 (ipykernel)",
   "language": "python",
   "name": "python3"
  },
  "language_info": {
   "codemirror_mode": {
    "name": "ipython",
    "version": 3
   },
   "file_extension": ".py",
   "mimetype": "text/x-python",
   "name": "python",
   "nbconvert_exporter": "python",
   "pygments_lexer": "ipython3",
   "version": "3.11.2"
  }
 },
 "nbformat": 4,
 "nbformat_minor": 5
}
