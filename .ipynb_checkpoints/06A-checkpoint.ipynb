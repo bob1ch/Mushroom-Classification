{
 "cells": [
  {
   "cell_type": "code",
   "execution_count": 187,
   "id": "4e5b04c9-4a19-497a-9408-6f2a7df3c5f6",
   "metadata": {},
   "outputs": [],
   "source": [
    "import pandas as pd\n",
    "import numpy as np\n",
    "\n",
    "from sklearn.model_selection import train_test_split\n",
    "from sklearn.preprocessing import LabelEncoder, OneHotEncoder\n",
    "\n",
    "from sklearn.metrics import roc_auc_score, f1_score, confusion_matrix"
   ]
  },
  {
   "cell_type": "markdown",
   "id": "06fc2196-236e-4f31-b046-a70ddcd80310",
   "metadata": {},
   "source": [
    "## 1. Reading data"
   ]
  },
  {
   "cell_type": "code",
   "execution_count": 103,
   "id": "11daffad-aa9b-4e3f-9057-e0160141591c",
   "metadata": {},
   "outputs": [
    {
     "data": {
      "text/html": [
       "<div>\n",
       "<style scoped>\n",
       "    .dataframe tbody tr th:only-of-type {\n",
       "        vertical-align: middle;\n",
       "    }\n",
       "\n",
       "    .dataframe tbody tr th {\n",
       "        vertical-align: top;\n",
       "    }\n",
       "\n",
       "    .dataframe thead th {\n",
       "        text-align: right;\n",
       "    }\n",
       "</style>\n",
       "<table border=\"1\" class=\"dataframe\">\n",
       "  <thead>\n",
       "    <tr style=\"text-align: right;\">\n",
       "      <th></th>\n",
       "      <th>class</th>\n",
       "      <th>cap-diameter</th>\n",
       "      <th>cap-shape</th>\n",
       "      <th>cap-surface</th>\n",
       "      <th>cap-color</th>\n",
       "      <th>does-bruise-or-bleed</th>\n",
       "      <th>gill-attachment</th>\n",
       "      <th>gill-spacing</th>\n",
       "      <th>gill-color</th>\n",
       "      <th>stem-height</th>\n",
       "      <th>...</th>\n",
       "      <th>stem-root</th>\n",
       "      <th>stem-surface</th>\n",
       "      <th>stem-color</th>\n",
       "      <th>veil-type</th>\n",
       "      <th>veil-color</th>\n",
       "      <th>has-ring</th>\n",
       "      <th>ring-type</th>\n",
       "      <th>spore-print-color</th>\n",
       "      <th>habitat</th>\n",
       "      <th>season</th>\n",
       "    </tr>\n",
       "  </thead>\n",
       "  <tbody>\n",
       "    <tr>\n",
       "      <th>0</th>\n",
       "      <td>p</td>\n",
       "      <td>15.26</td>\n",
       "      <td>x</td>\n",
       "      <td>g</td>\n",
       "      <td>o</td>\n",
       "      <td>f</td>\n",
       "      <td>e</td>\n",
       "      <td>NaN</td>\n",
       "      <td>w</td>\n",
       "      <td>16.95</td>\n",
       "      <td>...</td>\n",
       "      <td>s</td>\n",
       "      <td>y</td>\n",
       "      <td>w</td>\n",
       "      <td>u</td>\n",
       "      <td>w</td>\n",
       "      <td>t</td>\n",
       "      <td>g</td>\n",
       "      <td>NaN</td>\n",
       "      <td>d</td>\n",
       "      <td>w</td>\n",
       "    </tr>\n",
       "    <tr>\n",
       "      <th>1</th>\n",
       "      <td>p</td>\n",
       "      <td>16.60</td>\n",
       "      <td>x</td>\n",
       "      <td>g</td>\n",
       "      <td>o</td>\n",
       "      <td>f</td>\n",
       "      <td>e</td>\n",
       "      <td>NaN</td>\n",
       "      <td>w</td>\n",
       "      <td>17.99</td>\n",
       "      <td>...</td>\n",
       "      <td>s</td>\n",
       "      <td>y</td>\n",
       "      <td>w</td>\n",
       "      <td>u</td>\n",
       "      <td>w</td>\n",
       "      <td>t</td>\n",
       "      <td>g</td>\n",
       "      <td>NaN</td>\n",
       "      <td>d</td>\n",
       "      <td>u</td>\n",
       "    </tr>\n",
       "    <tr>\n",
       "      <th>2</th>\n",
       "      <td>p</td>\n",
       "      <td>14.07</td>\n",
       "      <td>x</td>\n",
       "      <td>g</td>\n",
       "      <td>o</td>\n",
       "      <td>f</td>\n",
       "      <td>e</td>\n",
       "      <td>NaN</td>\n",
       "      <td>w</td>\n",
       "      <td>17.80</td>\n",
       "      <td>...</td>\n",
       "      <td>s</td>\n",
       "      <td>y</td>\n",
       "      <td>w</td>\n",
       "      <td>u</td>\n",
       "      <td>w</td>\n",
       "      <td>t</td>\n",
       "      <td>g</td>\n",
       "      <td>NaN</td>\n",
       "      <td>d</td>\n",
       "      <td>w</td>\n",
       "    </tr>\n",
       "    <tr>\n",
       "      <th>3</th>\n",
       "      <td>p</td>\n",
       "      <td>14.17</td>\n",
       "      <td>f</td>\n",
       "      <td>h</td>\n",
       "      <td>e</td>\n",
       "      <td>f</td>\n",
       "      <td>e</td>\n",
       "      <td>NaN</td>\n",
       "      <td>w</td>\n",
       "      <td>15.77</td>\n",
       "      <td>...</td>\n",
       "      <td>s</td>\n",
       "      <td>y</td>\n",
       "      <td>w</td>\n",
       "      <td>u</td>\n",
       "      <td>w</td>\n",
       "      <td>t</td>\n",
       "      <td>p</td>\n",
       "      <td>NaN</td>\n",
       "      <td>d</td>\n",
       "      <td>w</td>\n",
       "    </tr>\n",
       "    <tr>\n",
       "      <th>4</th>\n",
       "      <td>p</td>\n",
       "      <td>14.64</td>\n",
       "      <td>x</td>\n",
       "      <td>h</td>\n",
       "      <td>o</td>\n",
       "      <td>f</td>\n",
       "      <td>e</td>\n",
       "      <td>NaN</td>\n",
       "      <td>w</td>\n",
       "      <td>16.53</td>\n",
       "      <td>...</td>\n",
       "      <td>s</td>\n",
       "      <td>y</td>\n",
       "      <td>w</td>\n",
       "      <td>u</td>\n",
       "      <td>w</td>\n",
       "      <td>t</td>\n",
       "      <td>p</td>\n",
       "      <td>NaN</td>\n",
       "      <td>d</td>\n",
       "      <td>w</td>\n",
       "    </tr>\n",
       "  </tbody>\n",
       "</table>\n",
       "<p>5 rows × 21 columns</p>\n",
       "</div>"
      ],
      "text/plain": [
       "  class  cap-diameter cap-shape cap-surface cap-color does-bruise-or-bleed  \\\n",
       "0     p         15.26         x           g         o                    f   \n",
       "1     p         16.60         x           g         o                    f   \n",
       "2     p         14.07         x           g         o                    f   \n",
       "3     p         14.17         f           h         e                    f   \n",
       "4     p         14.64         x           h         o                    f   \n",
       "\n",
       "  gill-attachment gill-spacing gill-color  stem-height  ...  stem-root  \\\n",
       "0               e          NaN          w        16.95  ...          s   \n",
       "1               e          NaN          w        17.99  ...          s   \n",
       "2               e          NaN          w        17.80  ...          s   \n",
       "3               e          NaN          w        15.77  ...          s   \n",
       "4               e          NaN          w        16.53  ...          s   \n",
       "\n",
       "  stem-surface stem-color veil-type veil-color has-ring ring-type  \\\n",
       "0            y          w         u          w        t         g   \n",
       "1            y          w         u          w        t         g   \n",
       "2            y          w         u          w        t         g   \n",
       "3            y          w         u          w        t         p   \n",
       "4            y          w         u          w        t         p   \n",
       "\n",
       "  spore-print-color habitat season  \n",
       "0               NaN       d      w  \n",
       "1               NaN       d      u  \n",
       "2               NaN       d      w  \n",
       "3               NaN       d      w  \n",
       "4               NaN       d      w  \n",
       "\n",
       "[5 rows x 21 columns]"
      ]
     },
     "execution_count": 103,
     "metadata": {},
     "output_type": "execute_result"
    }
   ],
   "source": [
    "data = pd.read_csv(\"mushroom.csv\")\n",
    "X, y = data.drop('class', axis=1).copy(), data['class'].copy()\n",
    "data.head()"
   ]
  },
  {
   "cell_type": "code",
   "execution_count": 104,
   "id": "7878cf1b-071a-4934-bf52-2e91b3c3cb94",
   "metadata": {},
   "outputs": [
    {
     "data": {
      "text/html": [
       "<div>\n",
       "<style scoped>\n",
       "    .dataframe tbody tr th:only-of-type {\n",
       "        vertical-align: middle;\n",
       "    }\n",
       "\n",
       "    .dataframe tbody tr th {\n",
       "        vertical-align: top;\n",
       "    }\n",
       "\n",
       "    .dataframe thead th {\n",
       "        text-align: right;\n",
       "    }\n",
       "</style>\n",
       "<table border=\"1\" class=\"dataframe\">\n",
       "  <thead>\n",
       "    <tr style=\"text-align: right;\">\n",
       "      <th></th>\n",
       "      <th>cap-diameter</th>\n",
       "      <th>stem-height</th>\n",
       "      <th>stem-width</th>\n",
       "    </tr>\n",
       "  </thead>\n",
       "  <tbody>\n",
       "    <tr>\n",
       "      <th>count</th>\n",
       "      <td>61069.000000</td>\n",
       "      <td>61069.000000</td>\n",
       "      <td>61069.000000</td>\n",
       "    </tr>\n",
       "    <tr>\n",
       "      <th>mean</th>\n",
       "      <td>6.733854</td>\n",
       "      <td>6.581538</td>\n",
       "      <td>12.149410</td>\n",
       "    </tr>\n",
       "    <tr>\n",
       "      <th>std</th>\n",
       "      <td>5.264845</td>\n",
       "      <td>3.370017</td>\n",
       "      <td>10.035955</td>\n",
       "    </tr>\n",
       "    <tr>\n",
       "      <th>min</th>\n",
       "      <td>0.380000</td>\n",
       "      <td>0.000000</td>\n",
       "      <td>0.000000</td>\n",
       "    </tr>\n",
       "    <tr>\n",
       "      <th>25%</th>\n",
       "      <td>3.480000</td>\n",
       "      <td>4.640000</td>\n",
       "      <td>5.210000</td>\n",
       "    </tr>\n",
       "    <tr>\n",
       "      <th>50%</th>\n",
       "      <td>5.860000</td>\n",
       "      <td>5.950000</td>\n",
       "      <td>10.190000</td>\n",
       "    </tr>\n",
       "    <tr>\n",
       "      <th>75%</th>\n",
       "      <td>8.540000</td>\n",
       "      <td>7.740000</td>\n",
       "      <td>16.570000</td>\n",
       "    </tr>\n",
       "    <tr>\n",
       "      <th>max</th>\n",
       "      <td>62.340000</td>\n",
       "      <td>33.920000</td>\n",
       "      <td>103.910000</td>\n",
       "    </tr>\n",
       "  </tbody>\n",
       "</table>\n",
       "</div>"
      ],
      "text/plain": [
       "       cap-diameter   stem-height    stem-width\n",
       "count  61069.000000  61069.000000  61069.000000\n",
       "mean       6.733854      6.581538     12.149410\n",
       "std        5.264845      3.370017     10.035955\n",
       "min        0.380000      0.000000      0.000000\n",
       "25%        3.480000      4.640000      5.210000\n",
       "50%        5.860000      5.950000     10.190000\n",
       "75%        8.540000      7.740000     16.570000\n",
       "max       62.340000     33.920000    103.910000"
      ]
     },
     "execution_count": 104,
     "metadata": {},
     "output_type": "execute_result"
    }
   ],
   "source": [
    "#по умолчанию describe делается по числовым колонкам\n",
    "data.describe()"
   ]
  },
  {
   "cell_type": "code",
   "execution_count": 105,
   "id": "14061772-2799-48e3-92e0-dc0c1e17b4b9",
   "metadata": {},
   "outputs": [
    {
     "data": {
      "text/html": [
       "<div>\n",
       "<style scoped>\n",
       "    .dataframe tbody tr th:only-of-type {\n",
       "        vertical-align: middle;\n",
       "    }\n",
       "\n",
       "    .dataframe tbody tr th {\n",
       "        vertical-align: top;\n",
       "    }\n",
       "\n",
       "    .dataframe thead th {\n",
       "        text-align: right;\n",
       "    }\n",
       "</style>\n",
       "<table border=\"1\" class=\"dataframe\">\n",
       "  <thead>\n",
       "    <tr style=\"text-align: right;\">\n",
       "      <th></th>\n",
       "      <th>class</th>\n",
       "      <th>cap-shape</th>\n",
       "      <th>cap-surface</th>\n",
       "      <th>cap-color</th>\n",
       "      <th>does-bruise-or-bleed</th>\n",
       "      <th>gill-attachment</th>\n",
       "      <th>gill-spacing</th>\n",
       "      <th>gill-color</th>\n",
       "      <th>stem-root</th>\n",
       "      <th>stem-surface</th>\n",
       "      <th>stem-color</th>\n",
       "      <th>veil-type</th>\n",
       "      <th>veil-color</th>\n",
       "      <th>has-ring</th>\n",
       "      <th>ring-type</th>\n",
       "      <th>spore-print-color</th>\n",
       "      <th>habitat</th>\n",
       "      <th>season</th>\n",
       "    </tr>\n",
       "  </thead>\n",
       "  <tbody>\n",
       "    <tr>\n",
       "      <th>count</th>\n",
       "      <td>61069</td>\n",
       "      <td>61069</td>\n",
       "      <td>46949</td>\n",
       "      <td>61069</td>\n",
       "      <td>61069</td>\n",
       "      <td>51185</td>\n",
       "      <td>36006</td>\n",
       "      <td>61069</td>\n",
       "      <td>9531</td>\n",
       "      <td>22945</td>\n",
       "      <td>61069</td>\n",
       "      <td>3177</td>\n",
       "      <td>7413</td>\n",
       "      <td>61069</td>\n",
       "      <td>58598</td>\n",
       "      <td>6354</td>\n",
       "      <td>61069</td>\n",
       "      <td>61069</td>\n",
       "    </tr>\n",
       "    <tr>\n",
       "      <th>unique</th>\n",
       "      <td>2</td>\n",
       "      <td>7</td>\n",
       "      <td>11</td>\n",
       "      <td>12</td>\n",
       "      <td>2</td>\n",
       "      <td>7</td>\n",
       "      <td>3</td>\n",
       "      <td>12</td>\n",
       "      <td>5</td>\n",
       "      <td>8</td>\n",
       "      <td>13</td>\n",
       "      <td>1</td>\n",
       "      <td>6</td>\n",
       "      <td>2</td>\n",
       "      <td>8</td>\n",
       "      <td>7</td>\n",
       "      <td>8</td>\n",
       "      <td>4</td>\n",
       "    </tr>\n",
       "    <tr>\n",
       "      <th>top</th>\n",
       "      <td>p</td>\n",
       "      <td>x</td>\n",
       "      <td>t</td>\n",
       "      <td>n</td>\n",
       "      <td>f</td>\n",
       "      <td>a</td>\n",
       "      <td>c</td>\n",
       "      <td>w</td>\n",
       "      <td>s</td>\n",
       "      <td>s</td>\n",
       "      <td>w</td>\n",
       "      <td>u</td>\n",
       "      <td>w</td>\n",
       "      <td>f</td>\n",
       "      <td>f</td>\n",
       "      <td>k</td>\n",
       "      <td>d</td>\n",
       "      <td>a</td>\n",
       "    </tr>\n",
       "    <tr>\n",
       "      <th>freq</th>\n",
       "      <td>33888</td>\n",
       "      <td>26934</td>\n",
       "      <td>8196</td>\n",
       "      <td>24218</td>\n",
       "      <td>50479</td>\n",
       "      <td>12698</td>\n",
       "      <td>24710</td>\n",
       "      <td>18521</td>\n",
       "      <td>3177</td>\n",
       "      <td>6025</td>\n",
       "      <td>22926</td>\n",
       "      <td>3177</td>\n",
       "      <td>5474</td>\n",
       "      <td>45890</td>\n",
       "      <td>48361</td>\n",
       "      <td>2118</td>\n",
       "      <td>44209</td>\n",
       "      <td>30177</td>\n",
       "    </tr>\n",
       "  </tbody>\n",
       "</table>\n",
       "</div>"
      ],
      "text/plain": [
       "        class cap-shape cap-surface cap-color does-bruise-or-bleed  \\\n",
       "count   61069     61069       46949     61069                61069   \n",
       "unique      2         7          11        12                    2   \n",
       "top         p         x           t         n                    f   \n",
       "freq    33888     26934        8196     24218                50479   \n",
       "\n",
       "       gill-attachment gill-spacing gill-color stem-root stem-surface  \\\n",
       "count            51185        36006      61069      9531        22945   \n",
       "unique               7            3         12         5            8   \n",
       "top                  a            c          w         s            s   \n",
       "freq             12698        24710      18521      3177         6025   \n",
       "\n",
       "       stem-color veil-type veil-color has-ring ring-type spore-print-color  \\\n",
       "count       61069      3177       7413    61069     58598              6354   \n",
       "unique         13         1          6        2         8                 7   \n",
       "top             w         u          w        f         f                 k   \n",
       "freq        22926      3177       5474    45890     48361              2118   \n",
       "\n",
       "       habitat season  \n",
       "count    61069  61069  \n",
       "unique       8      4  \n",
       "top          d      a  \n",
       "freq     44209  30177  "
      ]
     },
     "execution_count": 105,
     "metadata": {},
     "output_type": "execute_result"
    }
   ],
   "source": [
    "#describe по не числовым колонкам\n",
    "data.describe(exclude=[np.number])"
   ]
  },
  {
   "cell_type": "code",
   "execution_count": 106,
   "id": "5850715a-c8f2-495d-8ce3-d72bc0d0374f",
   "metadata": {},
   "outputs": [
    {
     "name": "stdout",
     "output_type": "stream",
     "text": [
      "cap-diameter             0.000000\n",
      "cap-shape                0.000000\n",
      "cap-surface             23.121387\n",
      "cap-color                0.000000\n",
      "does-bruise-or-bleed     0.000000\n",
      "gill-attachment         16.184971\n",
      "gill-spacing            41.040462\n",
      "gill-color               0.000000\n",
      "stem-height              0.000000\n",
      "stem-width               0.000000\n",
      "stem-root               84.393064\n",
      "stem-surface            62.427746\n",
      "stem-color               0.000000\n",
      "veil-type               94.797688\n",
      "veil-color              87.861272\n",
      "has-ring                 0.000000\n",
      "ring-type                4.046243\n",
      "spore-print-color       89.595376\n",
      "habitat                  0.000000\n",
      "season                   0.000000\n",
      "dtype: float64\n",
      "--------------------\n",
      "count     61069\n",
      "unique        2\n",
      "top           p\n",
      "freq      33888\n",
      "Name: class, dtype: object\n",
      "{'p': 0.5549132947976878, 'e': 0.44508670520231214}\n"
     ]
    }
   ],
   "source": [
    "NaN_percent = X.isnull().sum(axis=0) / len(X) * 100 # % NaN\n",
    "print(NaN_percent)\n",
    "#баланс классов\n",
    "print('-'*20)\n",
    "print(y.describe())\n",
    "print({k:(y == k).mean() for k in y.unique()})"
   ]
  },
  {
   "cell_type": "markdown",
   "id": "40614316-be4b-4b12-8dfb-9e70a3abeb83",
   "metadata": {},
   "source": [
    "* Существует проблема, что есть признаки, у которых  большое количество пропусков, поэтому для некоторых моделей это может стать проблемой\n",
    "\n",
    "  Так как я не разбираюсь в грибах принимаю решение избавиться от тех признаков, что содержат много пропусков, а там где пропусков мало заполним модой\n",
    "\n",
    "* Классы выглядят сбалансированными"
   ]
  },
  {
   "cell_type": "code",
   "execution_count": 107,
   "id": "5d03795f-50a7-455b-a122-8d5641fd3f0a",
   "metadata": {},
   "outputs": [],
   "source": [
    "#y transformation\n",
    "LE = LabelEncoder().fit(y)\n",
    "y = LE.transform(y)"
   ]
  },
  {
   "cell_type": "code",
   "execution_count": 108,
   "id": "b3f97de4-009a-4bbd-be0a-4bba4cabc126",
   "metadata": {},
   "outputs": [],
   "source": [
    "#x transformation\n",
    "categorical_columns = X.select_dtypes(exclude = [np.number]).columns.to_list()\n",
    "\n",
    "for col in categorical_columns:\n",
    "    oh = OneHotEncoder(sparse_output=False).set_output(transform=\"pandas\")\n",
    "    one_hot_encoded = oh.fit_transform(X[[col]])\n",
    "    X = pd.concat([X,one_hot_encoded],axis=1).drop(columns=[col])"
   ]
  },
  {
   "cell_type": "code",
   "execution_count": 109,
   "id": "c0dff57b-874b-473b-ba0a-06c481f90363",
   "metadata": {},
   "outputs": [],
   "source": [
    "X_train, X_test, y_train, y_test = train_test_split(X, y, test_size=0.3)"
   ]
  },
  {
   "cell_type": "markdown",
   "id": "5fc85427-4a91-4832-8dfd-fcfe112df895",
   "metadata": {},
   "source": [
    "## 2. Training models"
   ]
  },
  {
   "cell_type": "code",
   "execution_count": 110,
   "id": "26896cd7-4206-48ec-8b70-ec919018babc",
   "metadata": {},
   "outputs": [],
   "source": [
    "models_dict = {}"
   ]
  },
  {
   "cell_type": "markdown",
   "id": "ddc90df6-bd2f-4abb-9184-de77ed5eb730",
   "metadata": {},
   "source": [
    "#### 2.1 OneRule"
   ]
  },
  {
   "cell_type": "code",
   "execution_count": 111,
   "id": "ad04f825-4c75-42b1-8aeb-57d030ed410b",
   "metadata": {},
   "outputs": [],
   "source": [
    "from mlxtend.classifier import OneRClassifier"
   ]
  },
  {
   "cell_type": "code",
   "execution_count": 112,
   "id": "a5bbcc4d-e0ab-4de1-a632-a802f4fd902e",
   "metadata": {},
   "outputs": [
    {
     "name": "stdout",
     "output_type": "stream",
     "text": [
      "Accuracy: 0.6013863872059385\n"
     ]
    }
   ],
   "source": [
    "OneR = OneRClassifier().fit(X_train.to_numpy(), y_train)\n",
    "y_pred = OneR.predict(X_test.to_numpy())\n",
    "print(f'Accuracy: {(y_pred == y_test).mean()}')"
   ]
  },
  {
   "cell_type": "code",
   "execution_count": 113,
   "id": "3aa4bf1c-d38a-4ab0-b738-3ada7b80eb6a",
   "metadata": {},
   "outputs": [],
   "source": [
    "models_dict['OneR'] = OneR"
   ]
  },
  {
   "cell_type": "markdown",
   "id": "45984972-715f-4037-84fa-c9cd91ed8992",
   "metadata": {},
   "source": [
    "#### 2.2 LogisticRegression"
   ]
  },
  {
   "cell_type": "code",
   "execution_count": 114,
   "id": "c34698c5-1792-45b4-885a-8ec8c7b0dff5",
   "metadata": {},
   "outputs": [],
   "source": [
    "from sklearn.linear_model import LogisticRegression"
   ]
  },
  {
   "cell_type": "code",
   "execution_count": 115,
   "id": "a514ba43-b08c-48cc-a765-7c155d4437f5",
   "metadata": {},
   "outputs": [
    {
     "name": "stdout",
     "output_type": "stream",
     "text": [
      "Accuracy: 0.8613066972326838\n",
      "roc_auc score 0.9357636421807044\n"
     ]
    }
   ],
   "source": [
    "LogReg = LogisticRegression(max_iter=2000).fit(X_train, y_train)\n",
    "print(\n",
    "f'''Accuracy: {LogReg.score(X_test, y_test)}\n",
    "roc_auc score {roc_auc_score(y_test, LogReg.predict_proba(X_test)[:, 1])}'''\n",
    ")#Разберись что пихают в рок аук"
   ]
  },
  {
   "cell_type": "code",
   "execution_count": 116,
   "id": "798e6c6c-58d8-4fba-b957-f2d0c141e2c7",
   "metadata": {},
   "outputs": [],
   "source": [
    "models_dict['LogReg'] = LogReg"
   ]
  },
  {
   "cell_type": "markdown",
   "id": "b9c7c783-eb34-4bee-a3e2-c24b73f25a5f",
   "metadata": {},
   "source": [
    "#### 2.3 KNN"
   ]
  },
  {
   "cell_type": "code",
   "execution_count": 117,
   "id": "7bd5979b-7995-4614-b099-c40cefcb6a03",
   "metadata": {},
   "outputs": [],
   "source": [
    "from sklearn.neighbors import KNeighborsClassifier"
   ]
  },
  {
   "cell_type": "code",
   "execution_count": 118,
   "id": "832e0d6f-7df5-4750-b303-64b490f0a415",
   "metadata": {},
   "outputs": [
    {
     "name": "stdout",
     "output_type": "stream",
     "text": [
      "Accuracy: 0.9995633426123028\n",
      "roc_auc score 0.9999384352994417\n"
     ]
    }
   ],
   "source": [
    "KNN = KNeighborsClassifier().fit(X_train, y_train)\n",
    "print(\n",
    "f'''Accuracy: {KNN.score(X_test, y_test)}\n",
    "roc_auc score {roc_auc_score(y_test, KNN.predict_proba(X_test)[:, 1])}'''\n",
    ")"
   ]
  },
  {
   "cell_type": "code",
   "execution_count": 119,
   "id": "57186ec1-cdd4-4ef1-b30d-0e959291be57",
   "metadata": {},
   "outputs": [],
   "source": [
    "models_dict['KNN'] = KNN"
   ]
  },
  {
   "cell_type": "markdown",
   "id": "0ad8648f-7b57-417d-a18d-ed7595dff00e",
   "metadata": {},
   "source": [
    "#### 2.4 Bayes Classifier"
   ]
  },
  {
   "cell_type": "code",
   "execution_count": 120,
   "id": "4a0fd941-3c96-43d2-a465-6b2abea9b00c",
   "metadata": {},
   "outputs": [],
   "source": [
    "from sklearn.naive_bayes import CategoricalNB"
   ]
  },
  {
   "cell_type": "code",
   "execution_count": 121,
   "id": "fe35110c-3a34-49b4-8427-f54dcc50804a",
   "metadata": {},
   "outputs": [
    {
     "name": "stdout",
     "output_type": "stream",
     "text": [
      "Accuracy: 0.7872932700180121\n",
      "roc_auc score 0.8804257162275968\n"
     ]
    }
   ],
   "source": [
    "MrBayes = CategoricalNB().fit(X_train, y_train)\n",
    "print(\n",
    "f'''Accuracy: {MrBayes.score(X_test, y_test)}\n",
    "roc_auc score {roc_auc_score(y_test, MrBayes.predict_proba(X_test)[:, 1])}'''\n",
    ")\n",
    "#что-то с фичами не так, нужен фикс"
   ]
  },
  {
   "cell_type": "code",
   "execution_count": 122,
   "id": "4fff377b-0433-4c2b-970a-33806b86befe",
   "metadata": {},
   "outputs": [],
   "source": [
    "models_dict['Bayes'] = MrBayes"
   ]
  },
  {
   "cell_type": "markdown",
   "id": "2bf1cb2a-09e1-4689-bd0b-8a664ae03c06",
   "metadata": {},
   "source": [
    "#### 2.5 DescisionTree"
   ]
  },
  {
   "cell_type": "code",
   "execution_count": 123,
   "id": "6c4bd296-2127-43cb-93ed-cd1b7ae29274",
   "metadata": {},
   "outputs": [],
   "source": [
    "from sklearn.tree import DecisionTreeClassifier"
   ]
  },
  {
   "cell_type": "code",
   "execution_count": 124,
   "id": "1bfda01b-a3b1-4a9f-ab23-57706403a7f0",
   "metadata": {},
   "outputs": [
    {
     "name": "stdout",
     "output_type": "stream",
     "text": [
      "train acc 1.0\n",
      "test acc 0.9991812673980678\n",
      "\n"
     ]
    }
   ],
   "source": [
    "tree = DecisionTreeClassifier().fit(X_train, y_train)\n",
    "print(\n",
    "f'''train acc {(tree.predict(X_train) == y_train).mean()}\n",
    "test acc {(tree.predict(X_test) == y_test).mean()}\n",
    "'''\n",
    ")"
   ]
  },
  {
   "cell_type": "code",
   "execution_count": 125,
   "id": "73f62ae8-fb7b-4448-bcd6-81c9a12dc6ef",
   "metadata": {},
   "outputs": [],
   "source": [
    "models_dict['tree'] = tree"
   ]
  },
  {
   "cell_type": "markdown",
   "id": "33a65e47-bc95-4c79-8cac-b5dcba317e68",
   "metadata": {},
   "source": [
    "#### 2.6 Boosting"
   ]
  },
  {
   "cell_type": "code",
   "execution_count": 154,
   "id": "3a9cce85-f6d6-417b-ba35-073dc70ea233",
   "metadata": {},
   "outputs": [],
   "source": [
    "from catboost import CatBoostClassifier, Pool"
   ]
  },
  {
   "cell_type": "code",
   "execution_count": 157,
   "id": "f9ee3466-173f-4133-a733-308ff689c0d2",
   "metadata": {},
   "outputs": [
    {
     "name": "stdout",
     "output_type": "stream",
     "text": [
      "class =  [0 1 0 ... 0 0 1]\n",
      "proba =  [[0.57208783 0.42791217]\n",
      " [0.46681048 0.53318952]\n",
      " [0.50599494 0.49400506]\n",
      " ...\n",
      " [0.50593279 0.49406721]\n",
      " [0.50599494 0.49400506]\n",
      " [0.41506982 0.58493018]]\n",
      "score =  0.7109873915179302\n"
     ]
    }
   ],
   "source": [
    "test_pool = Pool(X_test, y_test)\n",
    "\n",
    "Boosting = CatBoostClassifier(iterations=256,\n",
    "                           depth=3,\n",
    "                           learning_rate=0.001,\n",
    "                           loss_function='Logloss',\n",
    "                           task_type='GPU',\n",
    "                           verbose=False)\n",
    "# train the model\n",
    "Boosting.fit(X_train, y_train)\n",
    "# make the prediction using the resulting model\n",
    "preds_class = model.predict(test_pool)\n",
    "preds_proba = model.predict_proba(test_pool)\n",
    "score = model.score(test_pool)\n",
    "print(\"class = \", preds_class)\n",
    "print(\"proba = \", preds_proba)\n",
    "print(\"score = \", score)"
   ]
  },
  {
   "cell_type": "code",
   "execution_count": 158,
   "id": "fa5a03ed-8285-47c9-ac2d-fba459a4bb4a",
   "metadata": {},
   "outputs": [],
   "source": [
    "models_dict['CatBoost'] = Boosting"
   ]
  },
  {
   "cell_type": "markdown",
   "id": "3c3170d0-358d-4ddc-9111-bb916ba377f3",
   "metadata": {},
   "source": [
    "#### 2.7 SVC"
   ]
  },
  {
   "cell_type": "code",
   "execution_count": 129,
   "id": "75930426-487d-4618-b91b-5ee68f2f18d4",
   "metadata": {},
   "outputs": [],
   "source": [
    "from sklearn.svm import SVC"
   ]
  },
  {
   "cell_type": "code",
   "execution_count": 131,
   "id": "7de59b1a-578c-4413-baed-1100dac87715",
   "metadata": {},
   "outputs": [
    {
     "name": "stdout",
     "output_type": "stream",
     "text": [
      "Accuracy: 0.9574259046995252\n"
     ]
    }
   ],
   "source": [
    "vector_classif = SVC().fit(X_train, y_train)\n",
    "print(\n",
    "f'''Accuracy: {vector_classi.score(X_test, y_test)}'''\n",
    ")"
   ]
  },
  {
   "cell_type": "code",
   "execution_count": 132,
   "id": "666a8e58-7311-45e7-928a-d31bd2376555",
   "metadata": {},
   "outputs": [],
   "source": [
    "models_dict['SVM'] = vector_classif"
   ]
  },
  {
   "cell_type": "markdown",
   "id": "41c69fe0-1fb9-433e-85f5-ee4b482f691b",
   "metadata": {},
   "source": [
    "#### 2.8 MLP"
   ]
  },
  {
   "cell_type": "code",
   "execution_count": 133,
   "id": "49d6ce76-f046-45b6-ab14-66215326d118",
   "metadata": {},
   "outputs": [],
   "source": [
    "from sklearn.neural_network import MLPClassifier"
   ]
  },
  {
   "cell_type": "code",
   "execution_count": 134,
   "id": "150b9101-e669-4c7d-88c8-44c531a55600",
   "metadata": {},
   "outputs": [
    {
     "name": "stdout",
     "output_type": "stream",
     "text": [
      "Accuracy: 1.0\n",
      "roc_auc score 1.0\n"
     ]
    }
   ],
   "source": [
    "MLP = MLPClassifier().fit(X_train, y_train)\n",
    "print(\n",
    "f'''Accuracy: {MLP.score(X_test, y_test)}\n",
    "roc_auc score {roc_auc_score(y_test, MLP.predict_proba(X_test)[:, 1])}'''\n",
    ")"
   ]
  },
  {
   "cell_type": "code",
   "execution_count": 135,
   "id": "85174980-d45f-4775-b54d-7cc56445f8af",
   "metadata": {},
   "outputs": [],
   "source": [
    "models_dict['MLP'] = MLP"
   ]
  },
  {
   "cell_type": "markdown",
   "id": "274fef81-c700-4a9f-8efa-c5cb39dd4ddf",
   "metadata": {},
   "source": [
    "#### 2.9 Ensemble"
   ]
  },
  {
   "cell_type": "code",
   "execution_count": 136,
   "id": "c40fe19f-6798-4735-a768-ea4ec2f5c8f5",
   "metadata": {},
   "outputs": [],
   "source": [
    "from sklearn.ensemble import RandomForestClassifier"
   ]
  },
  {
   "cell_type": "code",
   "execution_count": 137,
   "id": "7de75ed9-466a-44c1-8bae-1441a8621728",
   "metadata": {},
   "outputs": [
    {
     "name": "stdout",
     "output_type": "stream",
     "text": [
      "train acc 1.0\n",
      "test acc 1.0\n"
     ]
    }
   ],
   "source": [
    "forest = RandomForestClassifier(n_estimators=50, \n",
    "                                criterion='entropy', \n",
    "                                max_depth=30)\n",
    "forest.fit(X_train, y_train)\n",
    "print(\n",
    "f'''train acc {(forest.predict(X_train) == y_train).mean()}\n",
    "test acc {(forest.predict(X_test) == y_test).mean()}'''\n",
    ")"
   ]
  },
  {
   "cell_type": "code",
   "execution_count": 139,
   "id": "b44c98c1-90e2-4436-8280-b64fae496af5",
   "metadata": {},
   "outputs": [],
   "source": [
    "models_dict['RandomForest'] = forest "
   ]
  },
  {
   "cell_type": "markdown",
   "id": "a1644e28-65bd-4ec7-9f5c-8a1902fa1039",
   "metadata": {},
   "source": [
    "## 3. Testing models"
   ]
  },
  {
   "cell_type": "code",
   "execution_count": 171,
   "id": "92a345ce-c76d-407e-ab32-889788016cc2",
   "metadata": {},
   "outputs": [
    {
     "name": "stdout",
     "output_type": "stream",
     "text": [
      "Model name   |  accuracy\n",
      "-------------------------\n",
      "OneR         |      0.60\n",
      "LogReg       |      0.86\n",
      "KNN          |      1.00\n",
      "Bayes        |      0.79\n",
      "tree         |      1.00\n",
      "CatBoost     |      0.71\n",
      "SVM          |      0.96\n",
      "MLP          |      1.00\n",
      "RandomForest |      1.00\n"
     ]
    }
   ],
   "source": [
    "#accuracy\n",
    "print(f'{'Model name':13}|{'accuracy':>10}')\n",
    "print('-'*25)\n",
    "for name, model in models_dict.items():    \n",
    "    print(f'{name:13}|{(model.predict(X_test.to_numpy()) == y_test).mean() if name == 'OneR' else (model.predict(X_test) == y_test).mean():>10.2f}')"
   ]
  },
  {
   "cell_type": "code",
   "execution_count": 189,
   "id": "4b156b47-07e4-451c-bdae-141c62f95498",
   "metadata": {},
   "outputs": [
    {
     "name": "stdout",
     "output_type": "stream",
     "text": [
      "Model name   |  f1-score\n",
      "-------------------------\n",
      "OneR         |      0.65\n",
      "LogReg       |      0.87\n",
      "KNN          |      1.00\n",
      "Bayes        |      0.80\n",
      "tree         |      1.00\n",
      "CatBoost     |      0.72\n",
      "SVM          |      0.96\n",
      "MLP          |      1.00\n",
      "RandomForest |      1.00\n"
     ]
    }
   ],
   "source": [
    "#f1-score\n",
    "print(f'{'Model name':13}|{'f1-score':>10}')\n",
    "print('-'*25)\n",
    "for name, model in models_dict.items():\n",
    "    y_pred = model.predict(X_test.to_numpy()) if name == 'OneR' else model.predict(X_test)\n",
    "    print(f'{name:13}|{f1_score(y_test, y_pred):>10.2f}')"
   ]
  },
  {
   "cell_type": "code",
   "execution_count": 190,
   "id": "f7eeada7-8ab4-4279-bda1-0ceb1dcbb52c",
   "metadata": {
    "scrolled": true
   },
   "outputs": [
    {
     "data": {
      "text/plain": [
       "\u001b[0;31mSignature:\u001b[0m\n",
       "\u001b[0mroc_auc_score\u001b[0m\u001b[0;34m(\u001b[0m\u001b[0;34m\u001b[0m\n",
       "\u001b[0;34m\u001b[0m    \u001b[0my_true\u001b[0m\u001b[0;34m,\u001b[0m\u001b[0;34m\u001b[0m\n",
       "\u001b[0;34m\u001b[0m    \u001b[0my_score\u001b[0m\u001b[0;34m,\u001b[0m\u001b[0;34m\u001b[0m\n",
       "\u001b[0;34m\u001b[0m    \u001b[0;34m*\u001b[0m\u001b[0;34m,\u001b[0m\u001b[0;34m\u001b[0m\n",
       "\u001b[0;34m\u001b[0m    \u001b[0maverage\u001b[0m\u001b[0;34m=\u001b[0m\u001b[0;34m'macro'\u001b[0m\u001b[0;34m,\u001b[0m\u001b[0;34m\u001b[0m\n",
       "\u001b[0;34m\u001b[0m    \u001b[0msample_weight\u001b[0m\u001b[0;34m=\u001b[0m\u001b[0;32mNone\u001b[0m\u001b[0;34m,\u001b[0m\u001b[0;34m\u001b[0m\n",
       "\u001b[0;34m\u001b[0m    \u001b[0mmax_fpr\u001b[0m\u001b[0;34m=\u001b[0m\u001b[0;32mNone\u001b[0m\u001b[0;34m,\u001b[0m\u001b[0;34m\u001b[0m\n",
       "\u001b[0;34m\u001b[0m    \u001b[0mmulti_class\u001b[0m\u001b[0;34m=\u001b[0m\u001b[0;34m'raise'\u001b[0m\u001b[0;34m,\u001b[0m\u001b[0;34m\u001b[0m\n",
       "\u001b[0;34m\u001b[0m    \u001b[0mlabels\u001b[0m\u001b[0;34m=\u001b[0m\u001b[0;32mNone\u001b[0m\u001b[0;34m,\u001b[0m\u001b[0;34m\u001b[0m\n",
       "\u001b[0;34m\u001b[0m\u001b[0;34m)\u001b[0m\u001b[0;34m\u001b[0m\u001b[0;34m\u001b[0m\u001b[0m\n",
       "\u001b[0;31mDocstring:\u001b[0m\n",
       "Compute Area Under the Receiver Operating Characteristic Curve (ROC AUC)     from prediction scores.\n",
       "\n",
       "Note: this implementation can be used with binary, multiclass and\n",
       "multilabel classification, but some restrictions apply (see Parameters).\n",
       "\n",
       "Read more in the :ref:`User Guide <roc_metrics>`.\n",
       "\n",
       "Parameters\n",
       "----------\n",
       "y_true : array-like of shape (n_samples,) or (n_samples, n_classes)\n",
       "    True labels or binary label indicators. The binary and multiclass cases\n",
       "    expect labels with shape (n_samples,) while the multilabel case expects\n",
       "    binary label indicators with shape (n_samples, n_classes).\n",
       "\n",
       "y_score : array-like of shape (n_samples,) or (n_samples, n_classes)\n",
       "    Target scores.\n",
       "\n",
       "    * In the binary case, it corresponds to an array of shape\n",
       "      `(n_samples,)`. Both probability estimates and non-thresholded\n",
       "      decision values can be provided. The probability estimates correspond\n",
       "      to the **probability of the class with the greater label**,\n",
       "      i.e. `estimator.classes_[1]` and thus\n",
       "      `estimator.predict_proba(X, y)[:, 1]`. The decision values\n",
       "      corresponds to the output of `estimator.decision_function(X, y)`.\n",
       "      See more information in the :ref:`User guide <roc_auc_binary>`;\n",
       "    * In the multiclass case, it corresponds to an array of shape\n",
       "      `(n_samples, n_classes)` of probability estimates provided by the\n",
       "      `predict_proba` method. The probability estimates **must**\n",
       "      sum to 1 across the possible classes. In addition, the order of the\n",
       "      class scores must correspond to the order of ``labels``,\n",
       "      if provided, or else to the numerical or lexicographical order of\n",
       "      the labels in ``y_true``. See more information in the\n",
       "      :ref:`User guide <roc_auc_multiclass>`;\n",
       "    * In the multilabel case, it corresponds to an array of shape\n",
       "      `(n_samples, n_classes)`. Probability estimates are provided by the\n",
       "      `predict_proba` method and the non-thresholded decision values by\n",
       "      the `decision_function` method. The probability estimates correspond\n",
       "      to the **probability of the class with the greater label for each\n",
       "      output** of the classifier. See more information in the\n",
       "      :ref:`User guide <roc_auc_multilabel>`.\n",
       "\n",
       "average : {'micro', 'macro', 'samples', 'weighted'} or None,             default='macro'\n",
       "    If ``None``, the scores for each class are returned.\n",
       "    Otherwise, this determines the type of averaging performed on the data.\n",
       "    Note: multiclass ROC AUC currently only handles the 'macro' and\n",
       "    'weighted' averages. For multiclass targets, `average=None` is only\n",
       "    implemented for `multi_class='ovr'` and `average='micro'` is only\n",
       "    implemented for `multi_class='ovr'`.\n",
       "\n",
       "    ``'micro'``:\n",
       "        Calculate metrics globally by considering each element of the label\n",
       "        indicator matrix as a label.\n",
       "    ``'macro'``:\n",
       "        Calculate metrics for each label, and find their unweighted\n",
       "        mean.  This does not take label imbalance into account.\n",
       "    ``'weighted'``:\n",
       "        Calculate metrics for each label, and find their average, weighted\n",
       "        by support (the number of true instances for each label).\n",
       "    ``'samples'``:\n",
       "        Calculate metrics for each instance, and find their average.\n",
       "\n",
       "    Will be ignored when ``y_true`` is binary.\n",
       "\n",
       "sample_weight : array-like of shape (n_samples,), default=None\n",
       "    Sample weights.\n",
       "\n",
       "max_fpr : float > 0 and <= 1, default=None\n",
       "    If not ``None``, the standardized partial AUC [2]_ over the range\n",
       "    [0, max_fpr] is returned. For the multiclass case, ``max_fpr``,\n",
       "    should be either equal to ``None`` or ``1.0`` as AUC ROC partial\n",
       "    computation currently is not supported for multiclass.\n",
       "\n",
       "multi_class : {'raise', 'ovr', 'ovo'}, default='raise'\n",
       "    Only used for multiclass targets. Determines the type of configuration\n",
       "    to use. The default value raises an error, so either\n",
       "    ``'ovr'`` or ``'ovo'`` must be passed explicitly.\n",
       "\n",
       "    ``'ovr'``:\n",
       "        Stands for One-vs-rest. Computes the AUC of each class\n",
       "        against the rest [3]_ [4]_. This\n",
       "        treats the multiclass case in the same way as the multilabel case.\n",
       "        Sensitive to class imbalance even when ``average == 'macro'``,\n",
       "        because class imbalance affects the composition of each of the\n",
       "        'rest' groupings.\n",
       "    ``'ovo'``:\n",
       "        Stands for One-vs-one. Computes the average AUC of all\n",
       "        possible pairwise combinations of classes [5]_.\n",
       "        Insensitive to class imbalance when\n",
       "        ``average == 'macro'``.\n",
       "\n",
       "labels : array-like of shape (n_classes,), default=None\n",
       "    Only used for multiclass targets. List of labels that index the\n",
       "    classes in ``y_score``. If ``None``, the numerical or lexicographical\n",
       "    order of the labels in ``y_true`` is used.\n",
       "\n",
       "Returns\n",
       "-------\n",
       "auc : float\n",
       "    Area Under the Curve score.\n",
       "\n",
       "See Also\n",
       "--------\n",
       "average_precision_score : Area under the precision-recall curve.\n",
       "roc_curve : Compute Receiver operating characteristic (ROC) curve.\n",
       "RocCurveDisplay.from_estimator : Plot Receiver Operating Characteristic\n",
       "    (ROC) curve given an estimator and some data.\n",
       "RocCurveDisplay.from_predictions : Plot Receiver Operating Characteristic\n",
       "    (ROC) curve given the true and predicted values.\n",
       "\n",
       "Notes\n",
       "-----\n",
       "The Gini Coefficient is a summary measure of the ranking ability of binary\n",
       "classifiers. It is expressed using the area under of the ROC as follows:\n",
       "\n",
       "G = 2 * AUC - 1\n",
       "\n",
       "Where G is the Gini coefficient and AUC is the ROC-AUC score. This normalisation\n",
       "will ensure that random guessing will yield a score of 0 in expectation, and it is\n",
       "upper bounded by 1.\n",
       "\n",
       "References\n",
       "----------\n",
       ".. [1] `Wikipedia entry for the Receiver operating characteristic\n",
       "        <https://en.wikipedia.org/wiki/Receiver_operating_characteristic>`_\n",
       "\n",
       ".. [2] `Analyzing a portion of the ROC curve. McClish, 1989\n",
       "        <https://www.ncbi.nlm.nih.gov/pubmed/2668680>`_\n",
       "\n",
       ".. [3] Provost, F., Domingos, P. (2000). Well-trained PETs: Improving\n",
       "       probability estimation trees (Section 6.2), CeDER Working Paper\n",
       "       #IS-00-04, Stern School of Business, New York University.\n",
       "\n",
       ".. [4] `Fawcett, T. (2006). An introduction to ROC analysis. Pattern\n",
       "        Recognition Letters, 27(8), 861-874.\n",
       "        <https://www.sciencedirect.com/science/article/pii/S016786550500303X>`_\n",
       "\n",
       ".. [5] `Hand, D.J., Till, R.J. (2001). A Simple Generalisation of the Area\n",
       "        Under the ROC Curve for Multiple Class Classification Problems.\n",
       "        Machine Learning, 45(2), 171-186.\n",
       "        <http://link.springer.com/article/10.1023/A:1010920819831>`_\n",
       ".. [6] `Wikipedia entry for the Gini coefficient\n",
       "        <https://en.wikipedia.org/wiki/Gini_coefficient>`_\n",
       "\n",
       "Examples\n",
       "--------\n",
       "Binary case:\n",
       "\n",
       ">>> from sklearn.datasets import load_breast_cancer\n",
       ">>> from sklearn.linear_model import LogisticRegression\n",
       ">>> from sklearn.metrics import roc_auc_score\n",
       ">>> X, y = load_breast_cancer(return_X_y=True)\n",
       ">>> clf = LogisticRegression(solver=\"liblinear\", random_state=0).fit(X, y)\n",
       ">>> roc_auc_score(y, clf.predict_proba(X)[:, 1])\n",
       "0.99...\n",
       ">>> roc_auc_score(y, clf.decision_function(X))\n",
       "0.99...\n",
       "\n",
       "Multiclass case:\n",
       "\n",
       ">>> from sklearn.datasets import load_iris\n",
       ">>> X, y = load_iris(return_X_y=True)\n",
       ">>> clf = LogisticRegression(solver=\"liblinear\").fit(X, y)\n",
       ">>> roc_auc_score(y, clf.predict_proba(X), multi_class='ovr')\n",
       "0.99...\n",
       "\n",
       "Multilabel case:\n",
       "\n",
       ">>> import numpy as np\n",
       ">>> from sklearn.datasets import make_multilabel_classification\n",
       ">>> from sklearn.multioutput import MultiOutputClassifier\n",
       ">>> X, y = make_multilabel_classification(random_state=0)\n",
       ">>> clf = MultiOutputClassifier(clf).fit(X, y)\n",
       ">>> # get a list of n_output containing probability arrays of shape\n",
       ">>> # (n_samples, n_classes)\n",
       ">>> y_pred = clf.predict_proba(X)\n",
       ">>> # extract the positive columns for each output\n",
       ">>> y_pred = np.transpose([pred[:, 1] for pred in y_pred])\n",
       ">>> roc_auc_score(y, y_pred, average=None)\n",
       "array([0.82..., 0.86..., 0.94..., 0.85... , 0.94...])\n",
       ">>> from sklearn.linear_model import RidgeClassifierCV\n",
       ">>> clf = RidgeClassifierCV().fit(X, y)\n",
       ">>> roc_auc_score(y, clf.decision_function(X), average=None)\n",
       "array([0.81..., 0.84... , 0.93..., 0.87..., 0.94...])\n",
       "\u001b[0;31mFile:\u001b[0m      ~/Рабочий стол/Задача 06A. Классификация табличных данных/venv/lib/python3.12/site-packages/sklearn/metrics/_ranking.py\n",
       "\u001b[0;31mType:\u001b[0m      function"
      ]
     },
     "metadata": {},
     "output_type": "display_data"
    }
   ],
   "source": [
    "roc_auc_score?"
   ]
  },
  {
   "cell_type": "code",
   "execution_count": 193,
   "id": "78845d7b-0863-46b4-8f52-9bab2a06517d",
   "metadata": {},
   "outputs": [
    {
     "data": {
      "text/plain": [
       "array([[8.11268864e-01, 1.88731136e-01],\n",
       "       [9.23463932e-01, 7.65360681e-02],\n",
       "       [5.66494328e-01, 4.33505672e-01],\n",
       "       ...,\n",
       "       [9.99916732e-01, 8.32677531e-05],\n",
       "       [4.81176400e-03, 9.95188236e-01],\n",
       "       [2.75152358e-03, 9.97248476e-01]])"
      ]
     },
     "execution_count": 193,
     "metadata": {},
     "output_type": "execute_result"
    }
   ],
   "source": [
    "y_score"
   ]
  },
  {
   "cell_type": "code",
   "execution_count": 199,
   "id": "50d2782b-577f-4453-8982-f464573be0c3",
   "metadata": {},
   "outputs": [
    {
     "data": {
      "text/plain": [
       "array([1, 1, 1, ..., 0, 1, 1])"
      ]
     },
     "execution_count": 199,
     "metadata": {},
     "output_type": "execute_result"
    }
   ],
   "source": [
    "OneR.predict(X_test.to_numpy())"
   ]
  },
  {
   "cell_type": "code",
   "execution_count": 196,
   "id": "d08ffc79-a606-4c50-bda9-a72bbcbb989f",
   "metadata": {},
   "outputs": [
    {
     "data": {
      "text/plain": [
       "array([-1.36530201, -0.87809441, -0.55838995, ..., -1.20146127,\n",
       "        1.60168681,  2.83995353])"
      ]
     },
     "execution_count": 196,
     "metadata": {},
     "output_type": "execute_result"
    }
   ],
   "source": [
    "vector_classif.decision_function(X_test)"
   ]
  },
  {
   "cell_type": "code",
   "execution_count": 213,
   "id": "d59308a5-d8b7-47c5-b083-eaf93cb2d96a",
   "metadata": {},
   "outputs": [
    {
     "name": "stdout",
     "output_type": "stream",
     "text": [
      "Model name   |  f1-score\n",
      "-------------------------\n",
      "LogReg       |      0.94\n",
      "KNN          |      1.00\n",
      "Bayes        |      0.88\n",
      "tree         |      1.00\n",
      "CatBoost     |      0.80\n",
      "SVM          |      0.99\n",
      "MLP          |      1.00\n",
      "RandomForest |      1.00\n"
     ]
    }
   ],
   "source": [
    "#roc_auc_score\n",
    "#Compute Area Under the Receiver Operating Characteristic Curve (ROC AUC) from prediction scores\n",
    "\n",
    "print(f'{'Model name':13}|{'f1-score':>10}')\n",
    "print('-'*25)\n",
    "for name, model in models_dict.items():\n",
    "    if name == 'OneR':\n",
    "        continue\n",
    "\n",
    "    y_score = model.decision_function(X_test) if name == 'SVM' else model.predict_proba(X_test)[:, 1]\n",
    "    print(f'{name:13}|{roc_auc_score(y_test, y_score):>10.2f}')"
   ]
  }
 ],
 "metadata": {
  "kernelspec": {
   "display_name": "Python 3 (ipykernel)",
   "language": "python",
   "name": "python3"
  },
  "language_info": {
   "codemirror_mode": {
    "name": "ipython",
    "version": 3
   },
   "file_extension": ".py",
   "mimetype": "text/x-python",
   "name": "python",
   "nbconvert_exporter": "python",
   "pygments_lexer": "ipython3",
   "version": "3.12.3"
  }
 },
 "nbformat": 4,
 "nbformat_minor": 5
}
